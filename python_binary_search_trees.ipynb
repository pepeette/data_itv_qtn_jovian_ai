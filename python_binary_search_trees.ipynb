{
  "nbformat": 4,
  "nbformat_minor": 5,
  "metadata": {
    "kernelspec": {
      "display_name": "Python 3",
      "language": "python",
      "name": "python3"
    },
    "language_info": {
      "codemirror_mode": {
        "name": "ipython",
        "version": 3
      },
      "file_extension": ".py",
      "mimetype": "text/x-python",
      "name": "python",
      "nbconvert_exporter": "python",
      "pygments_lexer": "ipython3",
      "version": "3.6.12"
    },
    "colab": {
      "name": "python-binary-search-trees.ipynb",
      "provenance": [],
      "include_colab_link": true
    }
  },
  "cells": [
    {
      "cell_type": "markdown",
      "metadata": {
        "id": "view-in-github",
        "colab_type": "text"
      },
      "source": [
        "<a href=\"https://colab.research.google.com/github/pepeette/data_itv_qtn_jovian_ai/blob/main/python_binary_search_trees.ipynb\" target=\"_parent\"><img src=\"https://colab.research.google.com/assets/colab-badge.svg\" alt=\"Open In Colab\"/></a>"
      ]
    },
    {
      "cell_type": "code",
      "metadata": {
        "colab": {
          "base_uri": "https://localhost:8080/"
        },
        "id": "fa324a17",
        "outputId": "b147be28-42f9-4934-bc68-c7892e097552"
      },
      "source": [
        "# Jovian Commit Essentials\n",
        "# Please retain and execute this cell without modifying the contents for `jovian.commit` to work\n",
        "!pip install jovian --upgrade -q\n",
        "import jovian\n",
        "jovian.set_project('python-binary-search-trees')\n",
        "jovian.set_colab_id('1NMc2aJwtfHbj9-u1liEDFsBn1t0C9aOY')"
      ],
      "id": "fa324a17",
      "execution_count": 1,
      "outputs": [
        {
          "output_type": "stream",
          "name": "stdout",
          "text": [
            "\u001b[?25l\r\u001b[K     |████▊                           | 10 kB 22.6 MB/s eta 0:00:01\r\u001b[K     |█████████▌                      | 20 kB 28.4 MB/s eta 0:00:01\r\u001b[K     |██████████████▎                 | 30 kB 32.2 MB/s eta 0:00:01\r\u001b[K     |███████████████████             | 40 kB 33.8 MB/s eta 0:00:01\r\u001b[K     |███████████████████████▉        | 51 kB 35.8 MB/s eta 0:00:01\r\u001b[K     |████████████████████████████▋   | 61 kB 31.7 MB/s eta 0:00:01\r\u001b[K     |████████████████████████████████| 68 kB 6.5 MB/s \n",
            "\u001b[?25h  Building wheel for uuid (setup.py) ... \u001b[?25l\u001b[?25hdone\n"
          ]
        }
      ]
    },
    {
      "cell_type": "markdown",
      "metadata": {
        "id": "precise-filename"
      },
      "source": [
        "# Binary Search Trees, Traversals and Balancing in Python\n",
        "\n",
        "### Part 2 of \"Data Structures and Algorithms in Python\"\n",
        "\n",
        "![](https://i.imgur.com/lVqP63n.png)\n",
        "\n",
        "\n",
        "\n",
        "\n",
        "\n",
        "[Data Structures and Algorithms in Python](https://pythondsa.com) is beginner-friendly introduction to common data structures (linked lists, stacks, queues, graphs) and algorithms (search, sorting, recursion, dynamic programming) in Python, designed to help you prepare for coding interviews and assessments. Check out the full series here:\n",
        "\n",
        "1. [Binary Search and Complexity Analysis](https://jovian.ai/aakashns/python-binary-search)\n",
        "3. [Binary Search Trees, Traversals and Balancing](https://jovian.ai/aakashns/python-binary-search-trees)\n",
        "2. [Python Classes and Linked Lists](https://jovian.ai/aakashns/python-classes-and-linked-lists)\n",
        "4. Stacks, Queues and Strings (coming soon)\n",
        "5. Insertion Sort, Merge Sort and Divide-and-Conquer (coming soon)\n",
        "6. Quicksort, Partitions and Average-case Complexity (coming soon)\n",
        "7. Recursion, Backtracking and Dynamic Programming (coming soon)\n",
        "8. Knapsack, Subsequence and Matrix Problems (coming soon)\n",
        "9. Graphs, Breadth-First Search and Depth-First Search (coming soon)\n",
        "10. Shortest Paths, Spanning Trees & Topological Sorting (coming soon)\n",
        "11. Disjoint Sets and the Union Find Algorithm (coming soon)\n",
        "12. Interview Questions, Tips & Practical Advice (coming soon)\n",
        "\n",
        "\n",
        "Earn a verified certificate of accomplishment for this course by signing up here: http://pythondsa.com .\n",
        "\n",
        "Ask questions, get help & participate in discussions on the community forum: https://jovian.ai/forum/c/data-structures-and-algorithms-in-python/78"
      ],
      "id": "precise-filename"
    },
    {
      "cell_type": "markdown",
      "metadata": {
        "id": "adaptive-birmingham"
      },
      "source": [
        "### Prerequisites\n",
        "\n",
        "This course assumes very little background in programming and mathematics, and you can learn the required concepts here:\n",
        "\n",
        "- Basic programming with Python ([variables](https://jovian.ai/aakashns/first-steps-with-python), [data types](https://jovian.ai/aakashns/python-variables-and-data-types), [loops](https://jovian.ai/aakashns/python-branching-and-loops), [functions](https://jovian.ai/aakashns/python-functions-and-scope) etc.)\n",
        "- Some high school mathematics ([polynomials](https://www.youtube.com/watch?v=Vm7H0VTlIco), [vectors, matrices](https://www.youtube.com/watch?v=0oGJTQCy4cQ&list=PLSQl0a2vh4HCs4zPpOEdF2GuydqS90Yb6) and [probability](https://www.youtube.com/watch?v=uzkc-qNVoOk))\n",
        "- No prior knowledge of data structures or algorithms is required\n",
        "\n",
        "We'll cover any additional mathematical and theoretical concepts we need as we go along.\n",
        "\n"
      ],
      "id": "adaptive-birmingham"
    },
    {
      "cell_type": "markdown",
      "metadata": {
        "id": "polished-current"
      },
      "source": [
        "## How to Run the Code\n",
        "\n",
        "The best way to learn the material is to execute the code and experiment with it yourself. This tutorial is an executable [Jupyter notebook](https://jupyter.org). You can _run_ this tutorial and experiment with the code examples in a couple of ways: *using free online resources* (recommended) or *on your computer*.\n",
        "\n",
        "#### Option 1: Running using free online resources (1-click, recommended)\n",
        "\n",
        "The easiest way to start executing the code is to click the **Run** button at the top of this page and select **Run on Binder**. You can also select \"Run on Colab\" or \"Run on Kaggle\", but you'll need to create an account on [Google Colab](https://colab.research.google.com) or [Kaggle](https://kaggle.com) to use these platforms.\n",
        "\n",
        "\n",
        "#### Option 2: Running on your computer locally\n",
        "\n",
        "To run the code on your computer locally, you'll need to set up [Python](https://www.python.org), download the notebook and install the required libraries. We recommend using the [Conda](https://docs.conda.io/projects/conda/en/latest/user-guide/install/) distribution of Python. Click the **Run** button at the top of this page, select the **Run Locally** option, and follow the instructions.\n"
      ],
      "id": "polished-current"
    },
    {
      "cell_type": "markdown",
      "metadata": {
        "id": "governmental-worry"
      },
      "source": [
        "## Problem \n",
        "\n",
        "\n",
        "In this notebook, we'll focus on solving the following problem:\n",
        "\n",
        "> **QUESTION 1**: As a senior backend engineer at Jovian, you are tasked with developing a fast in-memory data structure to manage profile information (username, name and email) for 100 million users. It should allow the following operations to be performed efficiently:\n",
        "> \n",
        "> 1. **Insert** the profile information for a new user.\n",
        "> 2. **Find** the profile information of a user, given their username\n",
        "> 3. **Update** the profile information of a user, given their usrname\n",
        "> 5. **List** all the users of the platform, sorted by username\n",
        ">\n",
        "> You can assume that usernames are unique. \n",
        "\n",
        "Along the way, we will also solve several other questions related to binary trees and binary search trees that are often asked in coding interviews and assessments. "
      ],
      "id": "governmental-worry"
    },
    {
      "cell_type": "markdown",
      "metadata": {
        "id": "primary-adjustment"
      },
      "source": [
        "## The Method\n",
        "\n",
        "\n",
        "Here's a systematic strategy we'll apply for solving problems:\n",
        "\n",
        "1. State the problem clearly. Identify the input & output formats.\n",
        "2. Come up with some example inputs & outputs. Try to cover all edge cases.\n",
        "3. Come up with a correct solution for the problem. State it in plain English.\n",
        "4. Implement the solution and test it using example inputs. Fix bugs, if any.\n",
        "5. Analyze the algorithm's complexity and identify inefficiencies, if any.\n",
        "6. Apply the right technique to overcome the inefficiency. Repeat steps 3 to 6.\n",
        "\n"
      ],
      "id": "primary-adjustment"
    },
    {
      "cell_type": "markdown",
      "metadata": {
        "id": "three-register"
      },
      "source": [
        "## 1. State the problem clearly. Identify the input & output formats.\n",
        "\n",
        "#### Problem\n",
        "\n",
        "> We need to create a data structure which can store 100 million records and perform insertion, search, update and list operations efficiently.\n",
        "\n",
        "#### Input\n",
        "\n",
        "The key inputs to our data structure are user profiles, which contain the username, name and email of a user. \n",
        "\n",
        "A Python _class_ would be a great way to represent the information for a user. A class is a blueprint for creating _objects_. Everything in Python is an _object_ belonging to some _class_. Here's the simples possible class in Python, with nothing in it:"
      ],
      "id": "three-register"
    },
    {
      "cell_type": "code",
      "metadata": {
        "id": "exempt-financing"
      },
      "source": [
        "class User:\n",
        "    pass"
      ],
      "id": "exempt-financing",
      "execution_count": 2,
      "outputs": []
    },
    {
      "cell_type": "markdown",
      "metadata": {
        "id": "pointed-navigator"
      },
      "source": [
        "We can create or _instantiate_ an object of the class by calling it like a function."
      ],
      "id": "pointed-navigator"
    },
    {
      "cell_type": "code",
      "metadata": {
        "id": "smooth-copyright"
      },
      "source": [
        "user1 = User()"
      ],
      "id": "smooth-copyright",
      "execution_count": 3,
      "outputs": []
    },
    {
      "cell_type": "markdown",
      "metadata": {
        "id": "unavailable-silly"
      },
      "source": [
        "We can verify that the object is of the class `User`."
      ],
      "id": "unavailable-silly"
    },
    {
      "cell_type": "code",
      "metadata": {
        "colab": {
          "base_uri": "https://localhost:8080/"
        },
        "id": "frank-launch",
        "outputId": "e89f3090-8496-4a3b-df09-a47fbf6fae6b"
      },
      "source": [
        "user1"
      ],
      "id": "frank-launch",
      "execution_count": 4,
      "outputs": [
        {
          "output_type": "execute_result",
          "data": {
            "text/plain": [
              "<__main__.User at 0x7f5dc5cf8e10>"
            ]
          },
          "metadata": {},
          "execution_count": 4
        }
      ]
    },
    {
      "cell_type": "code",
      "metadata": {
        "colab": {
          "base_uri": "https://localhost:8080/"
        },
        "id": "variable-enclosure",
        "outputId": "74885567-628e-439a-c7a1-86a615c7de9c"
      },
      "source": [
        "type(user1)"
      ],
      "id": "variable-enclosure",
      "execution_count": 5,
      "outputs": [
        {
          "output_type": "execute_result",
          "data": {
            "text/plain": [
              "__main__.User"
            ]
          },
          "metadata": {},
          "execution_count": 5
        }
      ]
    },
    {
      "cell_type": "markdown",
      "metadata": {
        "id": "direct-projector"
      },
      "source": [
        "The object `user1` does not contain any useful information. Let's add a _constructor method_ to the class to store some _attributes_ or _properties_."
      ],
      "id": "direct-projector"
    },
    {
      "cell_type": "code",
      "metadata": {
        "id": "excessive-force"
      },
      "source": [
        "class User:\n",
        "    def __init__(self, username, name, email):\n",
        "        self.username = username\n",
        "        self.name = name\n",
        "        self.email = email\n",
        "        print('User created!')"
      ],
      "id": "excessive-force",
      "execution_count": 6,
      "outputs": []
    },
    {
      "cell_type": "markdown",
      "metadata": {
        "id": "biblical-recommendation"
      },
      "source": [
        "We can now create an object with some properties."
      ],
      "id": "biblical-recommendation"
    },
    {
      "cell_type": "code",
      "metadata": {
        "colab": {
          "base_uri": "https://localhost:8080/"
        },
        "id": "above-daughter",
        "outputId": "36ea1274-bf60-4afb-e569-de7a84df667f"
      },
      "source": [
        "user2 = User('john', 'John Doe', 'john@doe.com')"
      ],
      "id": "above-daughter",
      "execution_count": 7,
      "outputs": [
        {
          "output_type": "stream",
          "name": "stdout",
          "text": [
            "User created!\n"
          ]
        }
      ]
    },
    {
      "cell_type": "code",
      "metadata": {
        "colab": {
          "base_uri": "https://localhost:8080/"
        },
        "id": "single-roads",
        "outputId": "b7bd73c2-fa62-4241-9cd1-211c5cb7a207"
      },
      "source": [
        "user2"
      ],
      "id": "single-roads",
      "execution_count": 8,
      "outputs": [
        {
          "output_type": "execute_result",
          "data": {
            "text/plain": [
              "<__main__.User at 0x7f5dc587a910>"
            ]
          },
          "metadata": {},
          "execution_count": 8
        }
      ]
    },
    {
      "cell_type": "markdown",
      "metadata": {
        "id": "narrow-seeker"
      },
      "source": [
        "Here's what's happening above (conceptually):\n",
        "\n",
        "- Python creates an empty object of the type user and stores in the variable `user2`\n",
        "- Python then invokes the function `User.___init__` with the arguments `user2`, `\"john\"`, `\"John Doe\"` and `\"john@doe.com\"`\n",
        "- As the `__init__` function is executed, the properties `username`, `name` and `email` are set on the object `user2`\n"
      ],
      "id": "narrow-seeker"
    },
    {
      "cell_type": "markdown",
      "metadata": {
        "id": "injured-sheffield"
      },
      "source": [
        "We can access the properties of the object using the `.` notation."
      ],
      "id": "injured-sheffield"
    },
    {
      "cell_type": "code",
      "metadata": {
        "colab": {
          "base_uri": "https://localhost:8080/",
          "height": 35
        },
        "id": "blessed-albert",
        "outputId": "45dea8bc-0668-41ae-82cb-7fe27c8e8d24"
      },
      "source": [
        "user2.name"
      ],
      "id": "blessed-albert",
      "execution_count": 9,
      "outputs": [
        {
          "output_type": "execute_result",
          "data": {
            "application/vnd.google.colaboratory.intrinsic+json": {
              "type": "string"
            },
            "text/plain": [
              "'John Doe'"
            ]
          },
          "metadata": {},
          "execution_count": 9
        }
      ]
    },
    {
      "cell_type": "code",
      "metadata": {
        "colab": {
          "base_uri": "https://localhost:8080/"
        },
        "id": "strategic-mixture",
        "outputId": "c5f49686-a89a-440b-b96a-bc0f4ec5088c"
      },
      "source": [
        "user2.email, user2.username"
      ],
      "id": "strategic-mixture",
      "execution_count": 10,
      "outputs": [
        {
          "output_type": "execute_result",
          "data": {
            "text/plain": [
              "('john@doe.com', 'john')"
            ]
          },
          "metadata": {},
          "execution_count": 10
        }
      ]
    },
    {
      "cell_type": "markdown",
      "metadata": {
        "id": "international-arrow"
      },
      "source": [
        "You can also define custom methods inside a class."
      ],
      "id": "international-arrow"
    },
    {
      "cell_type": "code",
      "metadata": {
        "id": "trying-listening"
      },
      "source": [
        "class User:\n",
        "    def __init__(self, username, name, email):\n",
        "        self.username = username\n",
        "        self.name = name\n",
        "        self.email = email\n",
        "    \n",
        "    def introduce_yourself(self, guest_name):\n",
        "        print(\"Hi {}, I'm {}! Contact me at {} .\".format(guest_name, self.name, self.email))"
      ],
      "id": "trying-listening",
      "execution_count": 11,
      "outputs": []
    },
    {
      "cell_type": "code",
      "metadata": {
        "id": "previous-nicaragua"
      },
      "source": [
        "user3 = User('jane', 'Jane Doe', 'jane@doe.com')"
      ],
      "id": "previous-nicaragua",
      "execution_count": 12,
      "outputs": []
    },
    {
      "cell_type": "code",
      "metadata": {
        "colab": {
          "base_uri": "https://localhost:8080/"
        },
        "id": "negative-tunisia",
        "outputId": "024ca6c3-1a62-4a39-dca4-ef1c8d6f4f34"
      },
      "source": [
        "user3.introduce_yourself('David')"
      ],
      "id": "negative-tunisia",
      "execution_count": 13,
      "outputs": [
        {
          "output_type": "stream",
          "name": "stdout",
          "text": [
            "Hi David, I'm Jane Doe! Contact me at jane@doe.com .\n"
          ]
        }
      ]
    },
    {
      "cell_type": "markdown",
      "metadata": {
        "id": "rental-power"
      },
      "source": [
        "When we try to invoke the method `user3.introduce_yourself`, the object `user3` is automatically passed as the first argument `self`. Indeed, the following statement is equivalent to the above statement."
      ],
      "id": "rental-power"
    },
    {
      "cell_type": "code",
      "metadata": {
        "id": "apparent-spring",
        "outputId": "24a33a9c-bfaf-4d46-d55c-418be7947191"
      },
      "source": [
        "User.introduce_yourself(user3, 'David')"
      ],
      "id": "apparent-spring",
      "execution_count": null,
      "outputs": [
        {
          "name": "stdout",
          "output_type": "stream",
          "text": [
            "Hi David, I'm Jane Doe! Contact me at jane@doe.com .\n"
          ]
        }
      ]
    },
    {
      "cell_type": "markdown",
      "metadata": {
        "id": "veterinary-sustainability"
      },
      "source": [
        "Finally, we'll define a couple of helper methods to display user objects nicely within Jupyter."
      ],
      "id": "veterinary-sustainability"
    },
    {
      "cell_type": "code",
      "metadata": {
        "id": "regular-equivalent"
      },
      "source": [
        "class User:\n",
        "    def __init__(self, username, name, email):\n",
        "        self.username = username\n",
        "        self.name = name\n",
        "        self.email = email\n",
        "        \n",
        "    def __repr__(self):\n",
        "        return \"User(username='{}', name='{}', email='{}')\".format(self.username, self.name, self.email)\n",
        "    \n",
        "    def __str__(self):\n",
        "        return self.__repr__()"
      ],
      "id": "regular-equivalent",
      "execution_count": 14,
      "outputs": []
    },
    {
      "cell_type": "code",
      "metadata": {
        "id": "bright-vegetation"
      },
      "source": [
        "user4 = User('jane', 'Jane Doe', 'jane@doe.com')"
      ],
      "id": "bright-vegetation",
      "execution_count": 15,
      "outputs": []
    },
    {
      "cell_type": "code",
      "metadata": {
        "colab": {
          "base_uri": "https://localhost:8080/"
        },
        "id": "controlling-vehicle",
        "outputId": "e173015f-cb4c-46bc-ffba-00326fbd2fcd"
      },
      "source": [
        "user4"
      ],
      "id": "controlling-vehicle",
      "execution_count": 16,
      "outputs": [
        {
          "output_type": "execute_result",
          "data": {
            "text/plain": [
              "User(username='jane', name='Jane Doe', email='jane@doe.com')"
            ]
          },
          "metadata": {},
          "execution_count": 16
        }
      ]
    },
    {
      "cell_type": "markdown",
      "metadata": {
        "id": "closing-auditor"
      },
      "source": [
        "**Exercise:** What is the purpose of defining the functions `__str__` and `__repr__` within a class? How are the two functions different? Illustrate with some examples using the empty cells below.\n",
        "\n",
        "\n",
        "Learn more about classes in Python here: https://jovian.ai/aakashns/python-classes-and-linked-lists ."
      ],
      "id": "closing-auditor"
    },
    {
      "cell_type": "code",
      "metadata": {
        "id": "satisfactory-pepper"
      },
      "source": [
        ""
      ],
      "id": "satisfactory-pepper",
      "execution_count": null,
      "outputs": []
    },
    {
      "cell_type": "code",
      "metadata": {
        "id": "outside-jamaica"
      },
      "source": [
        ""
      ],
      "id": "outside-jamaica",
      "execution_count": null,
      "outputs": []
    },
    {
      "cell_type": "markdown",
      "metadata": {
        "id": "enclosed-surface"
      },
      "source": [
        "#### Output\n",
        "\n",
        "We can also express our desired data structure as a Python class `UserDatabase` with four methods: `insert`, `find`, `update` and `list_all`. "
      ],
      "id": "enclosed-surface"
    },
    {
      "cell_type": "code",
      "metadata": {
        "id": "matched-homework"
      },
      "source": [
        "class UserDatabase:\n",
        "    def insert(self, user):\n",
        "        pass\n",
        "    \n",
        "    def find(self, username):\n",
        "        pass\n",
        "    \n",
        "    def update(self, user):\n",
        "        pass\n",
        "        \n",
        "    def list_all(self):\n",
        "        pass"
      ],
      "id": "matched-homework",
      "execution_count": 17,
      "outputs": []
    },
    {
      "cell_type": "markdown",
      "metadata": {
        "id": "temporal-tender"
      },
      "source": [
        "It's good programming practice to list out the signatures of different class functions before we actually implement the class."
      ],
      "id": "temporal-tender"
    },
    {
      "cell_type": "markdown",
      "metadata": {
        "id": "laden-tiger"
      },
      "source": [
        "## 2. Come up with some example inputs & outputs. \n",
        "\n",
        "Let's create some sample user profiles that we can use to test our functions once we implement them."
      ],
      "id": "laden-tiger"
    },
    {
      "cell_type": "code",
      "metadata": {
        "id": "appointed-guatemala"
      },
      "source": [
        "aakash = User('aakash', 'Aakash Rai', 'aakash@example.com')\n",
        "biraj = User('biraj', 'Biraj Das', 'biraj@example.com')\n",
        "hemanth = User('hemanth', 'Hemanth Jain', 'hemanth@example.com')\n",
        "jadhesh = User('jadhesh', 'Jadhesh Verma', 'jadhesh@example.com')\n",
        "siddhant = User('siddhant', 'Siddhant Sinha', 'siddhant@example.com')\n",
        "sonaksh = User('sonaksh', 'Sonaksh Kumar', 'sonaksh@example.com')\n",
        "vishal = User('vishal', 'Vishal Goel', 'vishal@example.com')"
      ],
      "id": "appointed-guatemala",
      "execution_count": 18,
      "outputs": []
    },
    {
      "cell_type": "code",
      "metadata": {
        "id": "digital-happening"
      },
      "source": [
        "users = [aakash, biraj, hemanth, jadhesh, siddhant, sonaksh, vishal]"
      ],
      "id": "digital-happening",
      "execution_count": 19,
      "outputs": []
    },
    {
      "cell_type": "markdown",
      "metadata": {
        "id": "introductory-prison"
      },
      "source": [
        "We can access different fields within a user profile object using the `.` (dot) notation."
      ],
      "id": "introductory-prison"
    },
    {
      "cell_type": "code",
      "metadata": {
        "colab": {
          "base_uri": "https://localhost:8080/"
        },
        "id": "extreme-judge",
        "outputId": "8c16c24d-c78e-4439-fc3a-1b8673435ff3"
      },
      "source": [
        "biraj.username, biraj.email, biraj.name"
      ],
      "id": "extreme-judge",
      "execution_count": 20,
      "outputs": [
        {
          "output_type": "execute_result",
          "data": {
            "text/plain": [
              "('biraj', 'biraj@example.com', 'Biraj Das')"
            ]
          },
          "metadata": {},
          "execution_count": 20
        }
      ]
    },
    {
      "cell_type": "markdown",
      "metadata": {
        "id": "reserved-transition"
      },
      "source": [
        "We can also view a string representation of the object, since defined the `__repr__` and `__str__` methods"
      ],
      "id": "reserved-transition"
    },
    {
      "cell_type": "code",
      "metadata": {
        "scrolled": true,
        "colab": {
          "base_uri": "https://localhost:8080/"
        },
        "id": "conceptual-clearing",
        "outputId": "4735123b-4f43-41f9-a474-4449b550ce91"
      },
      "source": [
        "print(aakash)"
      ],
      "id": "conceptual-clearing",
      "execution_count": 21,
      "outputs": [
        {
          "output_type": "stream",
          "name": "stdout",
          "text": [
            "User(username='aakash', name='Aakash Rai', email='aakash@example.com')\n"
          ]
        }
      ]
    },
    {
      "cell_type": "code",
      "metadata": {
        "colab": {
          "base_uri": "https://localhost:8080/"
        },
        "id": "funky-start",
        "outputId": "63bcb67b-1360-4118-c2bb-23d058a59ac6"
      },
      "source": [
        "users"
      ],
      "id": "funky-start",
      "execution_count": 22,
      "outputs": [
        {
          "output_type": "execute_result",
          "data": {
            "text/plain": [
              "[User(username='aakash', name='Aakash Rai', email='aakash@example.com'),\n",
              " User(username='biraj', name='Biraj Das', email='biraj@example.com'),\n",
              " User(username='hemanth', name='Hemanth Jain', email='hemanth@example.com'),\n",
              " User(username='jadhesh', name='Jadhesh Verma', email='jadhesh@example.com'),\n",
              " User(username='siddhant', name='Siddhant Sinha', email='siddhant@example.com'),\n",
              " User(username='sonaksh', name='Sonaksh Kumar', email='sonaksh@example.com'),\n",
              " User(username='vishal', name='Vishal Goel', email='vishal@example.com')]"
            ]
          },
          "metadata": {},
          "execution_count": 22
        }
      ]
    },
    {
      "cell_type": "markdown",
      "metadata": {
        "id": "broken-methodology"
      },
      "source": [
        "Since we haven't implemented our data structure yet, it's not possible to list sample outputs. However you can try to come up with different scenarios to test future implementations\n",
        "\n",
        "**Exercise:** List some scenarios for testing the class methods `insert`, `find`, `update` and `list_all`.\n",
        "\n",
        "1. Insert:\n",
        "    1. Inserting into an empty database of users\n",
        "    2. Trying to insert a user with a username that already exists\n",
        "    3. Inserting a user with a username that does not exist\n",
        "    4. ???\n",
        "\n",
        "2. Find:\n",
        "    1. ???\n",
        "    2. ???\n",
        "    3. ???\n",
        "\n",
        "3. Update:\n",
        "    1. ???\n",
        "    2. ???\n",
        "    3. ???\n",
        "\n",
        "4. List:\n",
        "    1. ???\n",
        "    2. ???\n",
        "    3. ???\n",
        "\n",
        "\n"
      ],
      "id": "broken-methodology"
    },
    {
      "cell_type": "markdown",
      "metadata": {
        "id": "nuclear-infrared"
      },
      "source": [
        "## 3. Come up with a correct solution. State it in plain English.\n",
        "\n",
        "Here's a simple and easy solution to the problem: we store the `User` objects in a list sorted by usernames. \n",
        "\n",
        "The various functions can be implemented as follows:\n",
        "\n",
        "1. **Insert**: Loop through the list and add the new user at a position that keeps the list sorted.\n",
        "2. **Find**: Loop through the list and find the user object with the username matching the query.\n",
        "3. **Update**: Loop through the list, find the user object matching the query and update the details\n",
        "4. **List**: Return the list of user objects.\n",
        "\n",
        "We can use the fact usernames, which are are strings can be compared using the `<`, `>` and `==` operators in Python."
      ],
      "id": "nuclear-infrared"
    },
    {
      "cell_type": "code",
      "metadata": {
        "colab": {
          "base_uri": "https://localhost:8080/"
        },
        "id": "fifth-polymer",
        "outputId": "8c3861c7-c104-425a-8383-50d75d65ab70"
      },
      "source": [
        "'biraj' < 'hemanth'"
      ],
      "id": "fifth-polymer",
      "execution_count": 23,
      "outputs": [
        {
          "output_type": "execute_result",
          "data": {
            "text/plain": [
              "True"
            ]
          },
          "metadata": {},
          "execution_count": 23
        }
      ]
    },
    {
      "cell_type": "markdown",
      "metadata": {
        "id": "computational-affairs"
      },
      "source": [
        "## 4. Implement the solution and test it using example inputs.\n",
        "\n",
        "The code for implementing the above solution is also fairly straightfoward."
      ],
      "id": "computational-affairs"
    },
    {
      "cell_type": "code",
      "metadata": {
        "id": "detailed-technician"
      },
      "source": [
        "class UserDatabase:\n",
        "    def __init__(self):\n",
        "        self.users = []\n",
        "    \n",
        "    def insert(self, user):\n",
        "        i = 0\n",
        "        while i < len(self.users):\n",
        "            # Find the first username greater than the new user's username\n",
        "            if self.users[i].username > user.username:\n",
        "                break\n",
        "            i += 1\n",
        "        self.users.insert(i, user)\n",
        "    \n",
        "    def find(self, username):\n",
        "        for user in self.users:\n",
        "            if user.username == username:\n",
        "                return user\n",
        "    \n",
        "    def update(self, user):\n",
        "        target = self.find(user.username)\n",
        "        target.name, target.email = user.name, user.email\n",
        "        \n",
        "    def list_all(self):\n",
        "        return self.users"
      ],
      "id": "detailed-technician",
      "execution_count": 24,
      "outputs": []
    },
    {
      "cell_type": "markdown",
      "metadata": {
        "id": "rational-retrieval"
      },
      "source": [
        "We can create a new database of users by _instantiating_ and object of the `UserDatabase` class."
      ],
      "id": "rational-retrieval"
    },
    {
      "cell_type": "code",
      "metadata": {
        "id": "useful-sperm"
      },
      "source": [
        "database = UserDatabase()"
      ],
      "id": "useful-sperm",
      "execution_count": 25,
      "outputs": []
    },
    {
      "cell_type": "markdown",
      "metadata": {
        "id": "enabling-billion"
      },
      "source": [
        "Let's insert some entires into the object."
      ],
      "id": "enabling-billion"
    },
    {
      "cell_type": "code",
      "metadata": {
        "id": "regular-relevance"
      },
      "source": [
        "database.insert(hemanth)\n",
        "database.insert(aakash)\n",
        "database.insert(siddhant)"
      ],
      "id": "regular-relevance",
      "execution_count": 26,
      "outputs": []
    },
    {
      "cell_type": "markdown",
      "metadata": {
        "id": "entire-professional"
      },
      "source": [
        "We can now retrieve the data for a user, given their username."
      ],
      "id": "entire-professional"
    },
    {
      "cell_type": "code",
      "metadata": {
        "colab": {
          "base_uri": "https://localhost:8080/"
        },
        "id": "incoming-session",
        "outputId": "c4726393-7452-4bdb-fc1f-4918d45e78cf"
      },
      "source": [
        "user = database.find('siddhant')\n",
        "user"
      ],
      "id": "incoming-session",
      "execution_count": 27,
      "outputs": [
        {
          "output_type": "execute_result",
          "data": {
            "text/plain": [
              "User(username='siddhant', name='Siddhant Sinha', email='siddhant@example.com')"
            ]
          },
          "metadata": {},
          "execution_count": 27
        }
      ]
    },
    {
      "cell_type": "markdown",
      "metadata": {
        "id": "lesbian-location"
      },
      "source": [
        "Let's try changing the information for a user"
      ],
      "id": "lesbian-location"
    },
    {
      "cell_type": "code",
      "metadata": {
        "id": "wanted-colonial"
      },
      "source": [
        "database.update(User(username='siddhant', name='Siddhant U', email='siddhantu@example.com'))"
      ],
      "id": "wanted-colonial",
      "execution_count": 28,
      "outputs": []
    },
    {
      "cell_type": "code",
      "metadata": {
        "colab": {
          "base_uri": "https://localhost:8080/"
        },
        "id": "starting-hurricane",
        "outputId": "ac091331-d82a-4735-dffc-cf39084f5779"
      },
      "source": [
        "user = database.find('siddhant')\n",
        "user"
      ],
      "id": "starting-hurricane",
      "execution_count": 29,
      "outputs": [
        {
          "output_type": "execute_result",
          "data": {
            "text/plain": [
              "User(username='siddhant', name='Siddhant U', email='siddhantu@example.com')"
            ]
          },
          "metadata": {},
          "execution_count": 29
        }
      ]
    },
    {
      "cell_type": "markdown",
      "metadata": {
        "id": "minor-accident"
      },
      "source": [
        "Finally, we can retrieve a list of users in alphabetical order."
      ],
      "id": "minor-accident"
    },
    {
      "cell_type": "code",
      "metadata": {
        "colab": {
          "base_uri": "https://localhost:8080/"
        },
        "id": "approved-square",
        "outputId": "1f11ea71-9ab1-4b28-c9d8-b2daf3da9601"
      },
      "source": [
        "database.list_all()"
      ],
      "id": "approved-square",
      "execution_count": 30,
      "outputs": [
        {
          "output_type": "execute_result",
          "data": {
            "text/plain": [
              "[User(username='aakash', name='Aakash Rai', email='aakash@example.com'),\n",
              " User(username='hemanth', name='Hemanth Jain', email='hemanth@example.com'),\n",
              " User(username='siddhant', name='Siddhant U', email='siddhantu@example.com')]"
            ]
          },
          "metadata": {},
          "execution_count": 30
        }
      ]
    },
    {
      "cell_type": "markdown",
      "metadata": {
        "id": "together-basketball"
      },
      "source": [
        "Let's verify that a new user is inserted into the correct position."
      ],
      "id": "together-basketball"
    },
    {
      "cell_type": "code",
      "metadata": {
        "id": "advised-hungarian"
      },
      "source": [
        "database.insert(biraj)"
      ],
      "id": "advised-hungarian",
      "execution_count": 31,
      "outputs": []
    },
    {
      "cell_type": "code",
      "metadata": {
        "colab": {
          "base_uri": "https://localhost:8080/"
        },
        "id": "radio-smell",
        "outputId": "f57db462-7592-4492-9d9a-b2239f05ea45"
      },
      "source": [
        "database.list_all()"
      ],
      "id": "radio-smell",
      "execution_count": 32,
      "outputs": [
        {
          "output_type": "execute_result",
          "data": {
            "text/plain": [
              "[User(username='aakash', name='Aakash Rai', email='aakash@example.com'),\n",
              " User(username='biraj', name='Biraj Das', email='biraj@example.com'),\n",
              " User(username='hemanth', name='Hemanth Jain', email='hemanth@example.com'),\n",
              " User(username='siddhant', name='Siddhant U', email='siddhantu@example.com')]"
            ]
          },
          "metadata": {},
          "execution_count": 32
        }
      ]
    },
    {
      "cell_type": "markdown",
      "metadata": {
        "id": "comfortable-satisfaction"
      },
      "source": [
        "The user `biraj` was inserted just before `hemanth`, as expected.\n",
        "\n",
        "**Exercise:** Use the empty cells below to test the various scenarios you listed in step 2 above."
      ],
      "id": "comfortable-satisfaction"
    },
    {
      "cell_type": "code",
      "metadata": {
        "id": "removed-still"
      },
      "source": [
        ""
      ],
      "id": "removed-still",
      "execution_count": null,
      "outputs": []
    },
    {
      "cell_type": "code",
      "metadata": {
        "id": "concerned-congress"
      },
      "source": [
        ""
      ],
      "id": "concerned-congress",
      "execution_count": null,
      "outputs": []
    },
    {
      "cell_type": "code",
      "metadata": {
        "id": "floppy-technician"
      },
      "source": [
        ""
      ],
      "id": "floppy-technician",
      "execution_count": null,
      "outputs": []
    },
    {
      "cell_type": "markdown",
      "metadata": {
        "id": "dangerous-venezuela"
      },
      "source": [
        "## 5. Analyze the algorithm's complexity and identify inefficiencies\n",
        "\n",
        "The operations `insert`, `find`, `update` involves iterating over a list of users, in the worst case, they may take up to `N` iterations to return a result, where `N` is the total number of users. `list_all` however, simply returns the existing internal list of users. \n",
        "\n",
        "Thus, the time complexities of the various operations are:\n",
        "\n",
        "1. Insert: **O(N)**\n",
        "2. Find: **O(N)**\n",
        "3. Update: **O(N)**\n",
        "4. List: **O(1)**\n",
        "\n",
        "**Exercise:** Verify that the space complexity of each operation is **O(1)**.\n",
        "\n",
        "Is this good enough? To get a sense how long each function might take if there are 100 million users on the platform, we can simply run an `for` or `while` loop on 10 million numbers."
      ],
      "id": "dangerous-venezuela"
    },
    {
      "cell_type": "code",
      "metadata": {
        "colab": {
          "base_uri": "https://localhost:8080/"
        },
        "id": "healthy-blade",
        "outputId": "cbd3761e-433f-4945-dff5-cb418c70ca3d"
      },
      "source": [
        "%%time\n",
        "for i in range(100000000):\n",
        "    j = i*i"
      ],
      "id": "healthy-blade",
      "execution_count": 33,
      "outputs": [
        {
          "output_type": "stream",
          "name": "stdout",
          "text": [
            "CPU times: user 13.6 s, sys: 0 ns, total: 13.6 s\n",
            "Wall time: 13.6 s\n"
          ]
        }
      ]
    },
    {
      "cell_type": "markdown",
      "metadata": {
        "id": "endangered-centre"
      },
      "source": [
        "It takes almost 10 seconds to execute all the iterations in the above cell. \n",
        "\n",
        "* A 10-second delay for fetching user profiles will lead to a suboptimal users experience and may cause many users to stop using the platform altogether. \n",
        "* The 10-second processing time for each profile request will also significantly limit the number of users that can access the platform at a time or increase the cloud infrastructure costs for the company by millions of dollars.\n",
        "\n",
        "As a senior backend engineer, you must come up with a more efficient data structure! Choosing the right data structure for the requirements at hand is an important skill. It's apparent that a sorted list of users might not be the best data structure to organize profile information for millions of users. "
      ],
      "id": "endangered-centre"
    },
    {
      "cell_type": "markdown",
      "metadata": {
        "id": "popular-launch"
      },
      "source": [
        "### Save and upload your work to Jovian\n",
        "\n",
        "Whether you're running this Jupyter notebook online or on your computer, it's essential to save your work from time to time. You can continue working on a saved notebook later or share it with friends and colleagues to let them execute your code. [Jovian](https://jovian.ai/platform-features) offers an easy way of saving and sharing your Jupyter notebooks online."
      ],
      "id": "popular-launch"
    },
    {
      "cell_type": "code",
      "metadata": {
        "id": "interpreted-engine"
      },
      "source": [
        "!pip install jovian --upgrade --quiet"
      ],
      "id": "interpreted-engine",
      "execution_count": 34,
      "outputs": []
    },
    {
      "cell_type": "code",
      "metadata": {
        "id": "concrete-groove"
      },
      "source": [
        "import jovian"
      ],
      "id": "concrete-groove",
      "execution_count": null,
      "outputs": []
    },
    {
      "cell_type": "code",
      "metadata": {
        "colab": {
          "base_uri": "https://localhost:8080/",
          "height": 122
        },
        "id": "spread-agriculture",
        "outputId": "371c5833-5e91-4803-a491-592644e89822"
      },
      "source": [
        "jovian.commit(project='python-binary-search-trees')"
      ],
      "id": "spread-agriculture",
      "execution_count": 35,
      "outputs": [
        {
          "output_type": "stream",
          "name": "stdout",
          "text": [
            "[jovian] Detected Colab notebook...\u001b[0m\n",
            "[jovian] Please enter your API key ( from https://jovian.ai/ ):\u001b[0m\n",
            "API KEY: ··········\n",
            "[jovian] Uploading colab notebook to Jovian...\u001b[0m\n",
            "Committed successfully! https://jovian.ai/pepeette/python-binary-search-trees\n"
          ]
        },
        {
          "output_type": "execute_result",
          "data": {
            "application/vnd.google.colaboratory.intrinsic+json": {
              "type": "string"
            },
            "text/plain": [
              "'https://jovian.ai/pepeette/python-binary-search-trees'"
            ]
          },
          "metadata": {},
          "execution_count": 35
        }
      ]
    },
    {
      "cell_type": "markdown",
      "metadata": {
        "id": "bright-nothing"
      },
      "source": [
        "## 6. Apply the right technique to overcome the inefficiency\n",
        "\n",
        "We can limit the number of iterations required for common operations like find, insert and update by organizing our data in the following structure, called a **binary tree**:\n",
        "\n",
        "<img src=\"https://i.imgur.com/lVqP63n.png\" width=\"520\">\n",
        "\n",
        "\n",
        "\n",
        "It's called a tree because it vaguely like an inverted tree trunk with branches. \n",
        "* The word \"binary\" indicates that each \"node\" in the tree can have at most 2 children (left or right). \n",
        "* Nodes can have 0, 1 or 2 children. Nodes that do not have any children are sometimes also called \"leaves\".\n",
        "* The single node at the top is called the \"root\" node, and it typically where operations like search, insertion etc. begin.\n",
        "\n",
        "<img src=\"https://i.imgur.com/TZHMKJr.png\" width=\"400\">\n"
      ],
      "id": "bright-nothing"
    },
    {
      "cell_type": "markdown",
      "metadata": {
        "id": "useful-blade"
      },
      "source": [
        "## Balanced Binary Search Trees\n",
        "\n",
        "<img src=\"https://i.imgur.com/Mqef5b3.png\" width=\"520\">\n",
        "\n",
        "For our use case, we require the binary tree to have some additional properties:\n",
        "\n",
        "1. **Keys and Values**: Each node of the tree stores a key (a username) and a value (a `User` object). Only keys are shown in the picture above for brevity. A binary tree where nodes have both a key and a value is often referred to as a **map** or **treemap** (because it maps keys to values).\n",
        "2. **Binary Search Tree**: The *left subtree* of any node only contains nodes with keys that are lexicographically smaller than the node's key, and the *right subtree* of any node only contains nodes with keys that lexicographically larger than the node's key. A tree that satisfies this property is called a **binary search trees**, and it's easy to locate a specific key by traversing a single path down from the root note.\n",
        "3. **Balanced Tree**: The tree is **balanced** i.e. it does not skew too heavily to one side or the other. The left and right subtrees of any node shouldn't differ in height/depth by more than 1 level.\n",
        "\n",
        "\n",
        "### Height of a Binary Tree\n",
        "\n",
        "The number of levels in a tree is called its height. As you can tell from the picture above, each level of a tree contains twice as many nodes as the previous level. \n",
        "\n",
        "For a tree of height `k`, here's a list of the number of nodes at each level:\n",
        "\n",
        "Level 0: `1`\n",
        "\n",
        "Level 1: `2`\n",
        "\n",
        "Level 2: `4` i.e. `2^2`\n",
        "\n",
        "Level 3: `8` i.e. `2^3`\n",
        "\n",
        "...\n",
        "\n",
        "Level k-1: `2^(k-1)`\n",
        "\n",
        "If the total number of nodes in the tree is `N`, then it follows that\n",
        "\n",
        "```\n",
        "N = 1 + 2^1 + 2^2 + 2^3 + ... + 2^(k-1)\n",
        "```\n",
        "\n",
        "\n",
        "We can simplify this equation by adding `1` on each side:\n",
        "\n",
        "```\n",
        "N + 1 = 1 + 1 + 2^1 + 2^2 + 2^3 + ... + 2^(k-1) \n",
        "\n",
        "N + 1 = 2^1 + 2^1 + 2^2+ 2^3 + ... + 2^(k-1) \n",
        "\n",
        "N + 1 = = 2^2 + 2^2 + 2^3 + ... + 2^(k-1)\n",
        "\n",
        "N + 1 = = 2^3 + 2^3 + ... + 2^(k-1)\n",
        "\n",
        "...\n",
        "\n",
        "N + 1 = 2^(k-1) + 2^(k-1)\n",
        "\n",
        "N + 1 = 2^k\n",
        "\n",
        "k = log(N + 1) <= log(N) + 1 \n",
        "\n",
        "```\n",
        "\n",
        "Thus, to store `N` records we require a balanced binary search tree (BST) of height no larger than `log(N) + 1`. This is a very useful property, in combination with the fact that nodes are arranged in a way that makes it easy to find a specific key by following a single path down from the root. \n",
        "\n",
        "As we'll see soon, the `insert`, `find` and `update` operations in a balanced BST have time complexity `O(log N)` since they all involve traversing a single path down from the root of the tree."
      ],
      "id": "useful-blade"
    },
    {
      "cell_type": "markdown",
      "metadata": {
        "id": "fatty-brook"
      },
      "source": [
        "## Binary Tree\n",
        "\n",
        "> **QUESTION 2**: Implement a binary tree using Python, and show its usage with some examples.\n",
        "\n",
        "To begin, we'll create simple binary tree (without any of the additional properties) containing numbers as keys within nodes. Here's an example:\n",
        "\n",
        "<img src=\"https://i.imgur.com/hg2ZG5h.png\" width=\"240\">\n",
        "\n",
        "Here's a simple class representing a node within a binary tree.\n"
      ],
      "id": "fatty-brook"
    },
    {
      "cell_type": "code",
      "metadata": {
        "id": "concerned-guarantee"
      },
      "source": [
        "class TreeNode:\n",
        "    def __init__(self, key):\n",
        "        self.key = key\n",
        "        self.left = None\n",
        "        self.right = None"
      ],
      "id": "concerned-guarantee",
      "execution_count": 36,
      "outputs": []
    },
    {
      "cell_type": "markdown",
      "metadata": {
        "id": "super-accuracy"
      },
      "source": [
        "Let's create objects representing each node of the above tree"
      ],
      "id": "super-accuracy"
    },
    {
      "cell_type": "code",
      "metadata": {
        "id": "activated-medicaid"
      },
      "source": [
        "node0 = TreeNode(3)\n",
        "node1 = TreeNode(4)\n",
        "node2 = TreeNode(5)"
      ],
      "id": "activated-medicaid",
      "execution_count": 37,
      "outputs": []
    },
    {
      "cell_type": "markdown",
      "metadata": {
        "id": "suited-accessory"
      },
      "source": [
        "Let's verify that `node0` is an object of the type `TreeNode` and has the property `key` set to `3`."
      ],
      "id": "suited-accessory"
    },
    {
      "cell_type": "code",
      "metadata": {
        "colab": {
          "base_uri": "https://localhost:8080/"
        },
        "id": "different-spelling",
        "outputId": "2ecea04d-0edd-4ec8-f229-c015f00b74d2"
      },
      "source": [
        "node0"
      ],
      "id": "different-spelling",
      "execution_count": 38,
      "outputs": [
        {
          "output_type": "execute_result",
          "data": {
            "text/plain": [
              "<__main__.TreeNode at 0x7f5dc582f3d0>"
            ]
          },
          "metadata": {},
          "execution_count": 38
        }
      ]
    },
    {
      "cell_type": "code",
      "metadata": {
        "colab": {
          "base_uri": "https://localhost:8080/"
        },
        "id": "incorporated-hacker",
        "outputId": "a4cac2e9-29fd-4b3e-9850-460d866b8cb3"
      },
      "source": [
        "node0.key"
      ],
      "id": "incorporated-hacker",
      "execution_count": 39,
      "outputs": [
        {
          "output_type": "execute_result",
          "data": {
            "text/plain": [
              "3"
            ]
          },
          "metadata": {},
          "execution_count": 39
        }
      ]
    },
    {
      "cell_type": "markdown",
      "metadata": {
        "id": "impressed-charity"
      },
      "source": [
        "We can *connect* the nodes by setting the `.left` and `.right` properties of the root node."
      ],
      "id": "impressed-charity"
    },
    {
      "cell_type": "code",
      "metadata": {
        "id": "challenging-seventh"
      },
      "source": [
        "node0.left = node1\n",
        "node0.right = node2"
      ],
      "id": "challenging-seventh",
      "execution_count": 40,
      "outputs": []
    },
    {
      "cell_type": "markdown",
      "metadata": {
        "id": "roman-garage"
      },
      "source": [
        "And we're done! We can create a new variable *tree* which simply points to the root node, and use it to access all the nodes within the tree.\n",
        "\n",
        "<img src=\"https://i.imgur.com/hg2ZG5h.png\" width=\"240\">"
      ],
      "id": "roman-garage"
    },
    {
      "cell_type": "code",
      "metadata": {
        "id": "recorded-empire"
      },
      "source": [
        "tree = node0"
      ],
      "id": "recorded-empire",
      "execution_count": 41,
      "outputs": []
    },
    {
      "cell_type": "code",
      "metadata": {
        "colab": {
          "base_uri": "https://localhost:8080/"
        },
        "id": "elder-fiction",
        "outputId": "8c3b1933-3f4a-4be1-810f-dc12be8fc660"
      },
      "source": [
        "tree.key"
      ],
      "id": "elder-fiction",
      "execution_count": 42,
      "outputs": [
        {
          "output_type": "execute_result",
          "data": {
            "text/plain": [
              "3"
            ]
          },
          "metadata": {},
          "execution_count": 42
        }
      ]
    },
    {
      "cell_type": "code",
      "metadata": {
        "colab": {
          "base_uri": "https://localhost:8080/"
        },
        "id": "afraid-balloon",
        "outputId": "9f212e1a-5763-4c8f-b147-e6a39ec97500"
      },
      "source": [
        "tree.left.key"
      ],
      "id": "afraid-balloon",
      "execution_count": 43,
      "outputs": [
        {
          "output_type": "execute_result",
          "data": {
            "text/plain": [
              "4"
            ]
          },
          "metadata": {},
          "execution_count": 43
        }
      ]
    },
    {
      "cell_type": "code",
      "metadata": {
        "colab": {
          "base_uri": "https://localhost:8080/"
        },
        "id": "traditional-brother",
        "outputId": "f1e46649-f224-49db-fb84-8ee79472bc79"
      },
      "source": [
        "tree.right.key"
      ],
      "id": "traditional-brother",
      "execution_count": 44,
      "outputs": [
        {
          "output_type": "execute_result",
          "data": {
            "text/plain": [
              "5"
            ]
          },
          "metadata": {},
          "execution_count": 44
        }
      ]
    },
    {
      "cell_type": "markdown",
      "metadata": {
        "id": "criminal-leeds"
      },
      "source": [
        "Going forward, we'll use the term \"tree\" to refer to the root node. The term \"node\" can refer to any node in a tree, not necessarily the root.\n",
        "\n",
        "**Exercise:** Create the following binary tree using the `TreeNode` class defined above.\n",
        "\n",
        "<img src=\"https://i.imgur.com/d7djJAf.png\" width=\"540\">"
      ],
      "id": "criminal-leeds"
    },
    {
      "cell_type": "code",
      "metadata": {
        "id": "ongoing-assignment"
      },
      "source": [
        ""
      ],
      "id": "ongoing-assignment",
      "execution_count": null,
      "outputs": []
    },
    {
      "cell_type": "code",
      "metadata": {
        "id": "headed-discovery"
      },
      "source": [
        ""
      ],
      "id": "headed-discovery",
      "execution_count": null,
      "outputs": []
    },
    {
      "cell_type": "markdown",
      "metadata": {
        "id": "crucial-bacon"
      },
      "source": [
        "It's a bit inconvenient to create a tree by manually connecting all the nodes. Let's write a helper function which can convert a tuple with the structure `( left_subtree, key, right_subtree)` (where `left_subtree` and `right_subtree` are themselves tuples) into binary tree.\n",
        "\n",
        "Here's an tuple representing the tree shown above:"
      ],
      "id": "crucial-bacon"
    },
    {
      "cell_type": "code",
      "metadata": {
        "id": "rising-zealand"
      },
      "source": [
        "tree_tuple = ((1,3,None), 2, ((None, 3, 4), 5, (6, 7, 8)))"
      ],
      "id": "rising-zealand",
      "execution_count": 45,
      "outputs": []
    },
    {
      "cell_type": "code",
      "metadata": {
        "id": "defined-string"
      },
      "source": [
        "def parse_tuple(data):\n",
        "    # print(data)\n",
        "    if isinstance(data, tuple) and len(data) == 3:\n",
        "        node = TreeNode(data[1])\n",
        "        node.left = parse_tuple(data[0])\n",
        "        node.right = parse_tuple(data[2])\n",
        "    elif data is None:\n",
        "        node = None\n",
        "    else:\n",
        "        node = TreeNode(data)\n",
        "    return node"
      ],
      "id": "defined-string",
      "execution_count": 46,
      "outputs": []
    },
    {
      "cell_type": "markdown",
      "metadata": {
        "id": "final-cambridge"
      },
      "source": [
        "The `parse_tuple` creates a new root node when a tuple of size 3 as an the input. Interestingly, to create the left and right subtrees for the node, the `parse_tuple` function invokes itself. This technique is called _recursion_. The chain of _recursive_ calls ends when `parse_tuple` encounters a number or `None` as input. We'll use recursion extensively throughout this tutorial.\n",
        "\n",
        "\n",
        "**Exercise:** Add print statements inside `parse_tuple` to display the arguments for each call of the function. Does the sequence of recursive calls make sense to you?\n"
      ],
      "id": "final-cambridge"
    },
    {
      "cell_type": "markdown",
      "metadata": {
        "id": "different-surprise"
      },
      "source": [
        "Let's try out `parse_tuple` with the tuple define earlier."
      ],
      "id": "different-surprise"
    },
    {
      "cell_type": "code",
      "metadata": {
        "id": "heavy-consent"
      },
      "source": [
        "tree2 = parse_tuple(((1,3,None), 2, ((None, 3, 4), 5, (6, 7, 8))))"
      ],
      "id": "heavy-consent",
      "execution_count": 47,
      "outputs": []
    },
    {
      "cell_type": "code",
      "metadata": {
        "colab": {
          "base_uri": "https://localhost:8080/"
        },
        "id": "received-click",
        "outputId": "2d4f98e8-d89b-4cd9-a2f2-123fafca2844"
      },
      "source": [
        "tree2"
      ],
      "id": "received-click",
      "execution_count": 48,
      "outputs": [
        {
          "output_type": "execute_result",
          "data": {
            "text/plain": [
              "<__main__.TreeNode at 0x7f5dc8807890>"
            ]
          },
          "metadata": {},
          "execution_count": 48
        }
      ]
    },
    {
      "cell_type": "markdown",
      "metadata": {
        "id": "urban-result"
      },
      "source": [
        "We can now examine the tree to verify that it was constructed as expected.\n",
        "\n",
        "<img src=\"https://i.imgur.com/d7djJAf.png\" width=\"540\">"
      ],
      "id": "urban-result"
    },
    {
      "cell_type": "code",
      "metadata": {
        "colab": {
          "base_uri": "https://localhost:8080/"
        },
        "id": "precious-hammer",
        "outputId": "a3a8a837-d830-464d-f47b-0655a32cdd1b"
      },
      "source": [
        "tree2.key"
      ],
      "id": "precious-hammer",
      "execution_count": 49,
      "outputs": [
        {
          "output_type": "execute_result",
          "data": {
            "text/plain": [
              "2"
            ]
          },
          "metadata": {},
          "execution_count": 49
        }
      ]
    },
    {
      "cell_type": "code",
      "metadata": {
        "colab": {
          "base_uri": "https://localhost:8080/"
        },
        "id": "finished-moses",
        "outputId": "c67f7b74-b8b8-4ac1-851e-5abda125fe28"
      },
      "source": [
        "tree2.left.key, tree2.right.key"
      ],
      "id": "finished-moses",
      "execution_count": 50,
      "outputs": [
        {
          "output_type": "execute_result",
          "data": {
            "text/plain": [
              "(3, 5)"
            ]
          },
          "metadata": {},
          "execution_count": 50
        }
      ]
    },
    {
      "cell_type": "code",
      "metadata": {
        "colab": {
          "base_uri": "https://localhost:8080/"
        },
        "id": "regulated-monthly",
        "outputId": "a714b042-eff5-4e72-be0e-f2431f3114b3"
      },
      "source": [
        "tree2.left.left.key, tree2.left.right, tree2.right.left.key, tree2.right.right.key"
      ],
      "id": "regulated-monthly",
      "execution_count": 51,
      "outputs": [
        {
          "output_type": "execute_result",
          "data": {
            "text/plain": [
              "(1, None, 3, 7)"
            ]
          },
          "metadata": {},
          "execution_count": 51
        }
      ]
    },
    {
      "cell_type": "code",
      "metadata": {
        "scrolled": true,
        "colab": {
          "base_uri": "https://localhost:8080/"
        },
        "id": "dedicated-warning",
        "outputId": "72721d2f-0efe-48f0-d0f5-5b8aa517658a"
      },
      "source": [
        "tree2.right.left.right.key, tree2.right.right.left.key, tree2.right.right.right.key"
      ],
      "id": "dedicated-warning",
      "execution_count": 52,
      "outputs": [
        {
          "output_type": "execute_result",
          "data": {
            "text/plain": [
              "(4, 6, 8)"
            ]
          },
          "metadata": {},
          "execution_count": 52
        }
      ]
    },
    {
      "cell_type": "markdown",
      "metadata": {
        "id": "parallel-healthcare"
      },
      "source": [
        "**Exercise:** Define a function `tree_to_tuple` that converts a binary tree into a tuple representing the same tree. E.g. `tree_to_tuple` converts the tree created above to the tuple `((1, 3, None), 2, ((None, 3, 4), 5, (6, 7, 8)))`. *Hint*: Use recursion."
      ],
      "id": "parallel-healthcare"
    },
    {
      "cell_type": "code",
      "metadata": {
        "id": "unsigned-gabriel"
      },
      "source": [
        "def tree_to_tuple(node):\n",
        "    pass"
      ],
      "id": "unsigned-gabriel",
      "execution_count": 53,
      "outputs": []
    },
    {
      "cell_type": "code",
      "metadata": {
        "id": "revolutionary-cache"
      },
      "source": [
        ""
      ],
      "id": "revolutionary-cache",
      "execution_count": null,
      "outputs": []
    },
    {
      "cell_type": "markdown",
      "metadata": {
        "id": "comparative-civilization"
      },
      "source": [
        "Let's create another helper function to display all the keys in a tree-like structure for easier visualization."
      ],
      "id": "comparative-civilization"
    },
    {
      "cell_type": "code",
      "metadata": {
        "id": "advance-bunch"
      },
      "source": [
        "def display_keys(node, space='\\t', level=0):\n",
        "    # print(node.key if node else None, level)\n",
        "    \n",
        "    # If the node is empty\n",
        "    if node is None:\n",
        "        print(space*level + '∅')\n",
        "        return   \n",
        "    \n",
        "    # If the node is a leaf \n",
        "    if node.left is None and node.right is None:\n",
        "        print(space*level + str(node.key))\n",
        "        return\n",
        "    \n",
        "    # If the node has children\n",
        "    display_keys(node.right, space, level+1)\n",
        "    print(space*level + str(node.key))\n",
        "    display_keys(node.left,space, level+1)    "
      ],
      "id": "advance-bunch",
      "execution_count": 54,
      "outputs": []
    },
    {
      "cell_type": "markdown",
      "metadata": {
        "id": "international-rider"
      },
      "source": [
        "Once again, the `display_keys` function users recursion to print all the keys of the left and right subtree with proper indentation.\n",
        "\n",
        "**Exercise:** Add print statements inside `display_keys` to display the arguments for each call of the function. Does the sequence of recursive calls make sense to you?\n",
        "\n",
        "Let's try using the function."
      ],
      "id": "international-rider"
    },
    {
      "cell_type": "code",
      "metadata": {
        "colab": {
          "base_uri": "https://localhost:8080/"
        },
        "id": "rental-junction",
        "outputId": "e1ee0ac2-6298-4b09-939a-3f770cc19663"
      },
      "source": [
        "display_keys(tree2, '  ')"
      ],
      "id": "rental-junction",
      "execution_count": 55,
      "outputs": [
        {
          "output_type": "stream",
          "name": "stdout",
          "text": [
            "      8\n",
            "    7\n",
            "      6\n",
            "  5\n",
            "      4\n",
            "    3\n",
            "      ∅\n",
            "2\n",
            "    ∅\n",
            "  3\n",
            "    1\n"
          ]
        }
      ]
    },
    {
      "cell_type": "markdown",
      "metadata": {
        "id": "continuing-modification"
      },
      "source": [
        "We can now visualize the tree that was just created (albeit rotated by 90 degrees). It's easy to see that it matches the expected structure.\n",
        "\n",
        "<img src=\"https://i.imgur.com/d7djJAf.png\" width=\"540\">\n",
        "\n",
        "**Exercise**: Create some more trees and visualize them using `display_keys`. You can use [excalidraw.com](https://excalidraw.com) as a digital whiteboard to create trees."
      ],
      "id": "continuing-modification"
    },
    {
      "cell_type": "code",
      "metadata": {
        "id": "ethical-hazard"
      },
      "source": [
        ""
      ],
      "id": "ethical-hazard",
      "execution_count": null,
      "outputs": []
    },
    {
      "cell_type": "code",
      "metadata": {
        "id": "pleased-hindu"
      },
      "source": [
        ""
      ],
      "id": "pleased-hindu",
      "execution_count": null,
      "outputs": []
    },
    {
      "cell_type": "markdown",
      "metadata": {
        "id": "rocky-collar"
      },
      "source": [
        "## Traversing a Binary Tree\n",
        "\n",
        "The following questions are frequently asked in coding interviews and assessments:\n",
        "\n",
        "> **QUESTION 3**: Write a function to perform the _inorder_ traversal of a binary tree.\n",
        "\n",
        "> **QUESTION 4**: Write a function to perform the _preorder_ traversal of a binary tree.\n",
        "\n",
        "> **QUESTION 5**: Write a function to perform the _postorder_ traversal of a binary tree.\n",
        "\n",
        "A *traversal* refers to the process of visiting each node of a tree exactly once. _Visiting a node_ generally refers to adding the node's key to a list. There are three ways to traverse a binary tree and return the list of visited keys: \n",
        "\n",
        "### Inorder traversal\n",
        "\n",
        "\n",
        "\n",
        "  1. Traverse the left subtree recursively inorder.\n",
        "  2. Traverse the current node.\n",
        "  3. Traverse the right subtree recursively inorder.\n",
        "\n",
        "\n",
        "<img src=\"https://i.imgur.com/KCXpMA9.png\" width=\"540\">\n",
        "\n",
        "\n",
        "### Preorder traversal\n",
        "\n",
        "  1. Traverse the current node.\n",
        "  2. Traverse the left subtree recursively preorder.\n",
        "  3. Traverse the right subtree recursively preorder.\n",
        "  \n",
        "<img src=\"https://i.imgur.com/2xrMUWP.png\" width=\"540\">\n",
        "\n",
        "\n",
        "Can you guess how **postorder** traversal works??\n",
        "\n",
        "\n",
        "Here's an implementation of inorder traversal of a binary tree."
      ],
      "id": "rocky-collar"
    },
    {
      "cell_type": "code",
      "metadata": {
        "id": "vanilla-capability"
      },
      "source": [
        "def traverse_in_order(node):\n",
        "    if node is None: \n",
        "        return []\n",
        "    return(traverse_in_order(node.left) + \n",
        "           [node.key] + \n",
        "           traverse_in_order(node.right))"
      ],
      "id": "vanilla-capability",
      "execution_count": 56,
      "outputs": []
    },
    {
      "cell_type": "markdown",
      "metadata": {
        "id": "chicken-benchmark"
      },
      "source": [
        "Let's try it out with this tree:\n",
        "\n",
        "<img src=\"https://i.imgur.com/d7djJAf.png\" width=\"540\">"
      ],
      "id": "chicken-benchmark"
    },
    {
      "cell_type": "code",
      "metadata": {
        "id": "natural-nashville"
      },
      "source": [
        "tree = parse_tuple(((1,3,None), 2, ((None, 3, 4), 5, (6, 7, 8))))"
      ],
      "id": "natural-nashville",
      "execution_count": 57,
      "outputs": []
    },
    {
      "cell_type": "code",
      "metadata": {
        "colab": {
          "base_uri": "https://localhost:8080/"
        },
        "id": "greatest-return",
        "outputId": "3c9db20a-939a-4316-da41-49dcaf4fe7f5"
      },
      "source": [
        "display_keys(tree, '  ')"
      ],
      "id": "greatest-return",
      "execution_count": 58,
      "outputs": [
        {
          "output_type": "stream",
          "name": "stdout",
          "text": [
            "      8\n",
            "    7\n",
            "      6\n",
            "  5\n",
            "      4\n",
            "    3\n",
            "      ∅\n",
            "2\n",
            "    ∅\n",
            "  3\n",
            "    1\n"
          ]
        }
      ]
    },
    {
      "cell_type": "code",
      "metadata": {
        "colab": {
          "base_uri": "https://localhost:8080/"
        },
        "id": "continent-twins",
        "outputId": "64723025-a23e-48e7-e874-7fc2f9d77ab5"
      },
      "source": [
        "traverse_in_order(tree)"
      ],
      "id": "continent-twins",
      "execution_count": 59,
      "outputs": [
        {
          "output_type": "execute_result",
          "data": {
            "text/plain": [
              "[1, 3, 2, 3, 4, 5, 6, 7, 8]"
            ]
          },
          "metadata": {},
          "execution_count": 59
        }
      ]
    },
    {
      "cell_type": "markdown",
      "metadata": {
        "id": "dirty-street"
      },
      "source": [
        "\n",
        "**Exercise:** Implement functions for preorder and postorder traversal of a binary tree.\n",
        "\n",
        "Test your implementations by making submissions to the following problems:\n",
        "\n",
        "* https://leetcode.com/problems/binary-tree-inorder-traversal/\n",
        "* https://leetcode.com/problems/binary-tree-preorder-traversal/\n",
        "* https://leetcode.com/problems/binary-tree-postorder-traversal/"
      ],
      "id": "dirty-street"
    },
    {
      "cell_type": "code",
      "metadata": {
        "colab": {
          "base_uri": "https://localhost:8080/",
          "height": 87
        },
        "id": "burning-breathing",
        "outputId": "4d1b3395-067c-40a0-c691-2a2d87d2f91b"
      },
      "source": [
        "jovian.commit()"
      ],
      "id": "burning-breathing",
      "execution_count": 60,
      "outputs": [
        {
          "output_type": "stream",
          "name": "stdout",
          "text": [
            "[jovian] Detected Colab notebook...\u001b[0m\n",
            "[jovian] Uploading colab notebook to Jovian...\u001b[0m\n",
            "Committed successfully! https://jovian.ai/pepeette/python-binary-search-trees\n"
          ]
        },
        {
          "output_type": "execute_result",
          "data": {
            "application/vnd.google.colaboratory.intrinsic+json": {
              "type": "string"
            },
            "text/plain": [
              "'https://jovian.ai/pepeette/python-binary-search-trees'"
            ]
          },
          "metadata": {},
          "execution_count": 60
        }
      ]
    },
    {
      "cell_type": "markdown",
      "metadata": {
        "id": "vietnamese-difficulty"
      },
      "source": [
        "## Height and Size of a Binary Tree\n",
        "\n",
        "\n",
        "> **QUESTION 6**: Write a function to calculate the height/depth of a binary tree\n",
        "\n",
        "> **QUESTION 7**: Write a function to count the number of nodes in a binary tree\n",
        "\n",
        "\n",
        "The _height/depth_ of a binary tree is defined as the length of the longest path from its root node to a leaf. It can be computed recursively, as follows:\n"
      ],
      "id": "vietnamese-difficulty"
    },
    {
      "cell_type": "code",
      "metadata": {
        "id": "occasional-supplier"
      },
      "source": [
        "def tree_height(node):\n",
        "    if node is None:\n",
        "        return 0\n",
        "    return 1 + max(tree_height(node.left), tree_height(node.right))"
      ],
      "id": "occasional-supplier",
      "execution_count": 61,
      "outputs": []
    },
    {
      "cell_type": "markdown",
      "metadata": {
        "id": "potential-jefferson"
      },
      "source": [
        "Let's compute the height of this tree:\n",
        "\n",
        "<img src=\"https://i.imgur.com/d7djJAf.png\" width=\"540\">"
      ],
      "id": "potential-jefferson"
    },
    {
      "cell_type": "code",
      "metadata": {
        "colab": {
          "base_uri": "https://localhost:8080/"
        },
        "id": "integrated-experiment",
        "outputId": "c6a2fb17-c674-4d43-bf5c-161c9a4507ab"
      },
      "source": [
        "tree_height(tree)"
      ],
      "id": "integrated-experiment",
      "execution_count": 62,
      "outputs": [
        {
          "output_type": "execute_result",
          "data": {
            "text/plain": [
              "4"
            ]
          },
          "metadata": {},
          "execution_count": 62
        }
      ]
    },
    {
      "cell_type": "markdown",
      "metadata": {
        "id": "collect-official"
      },
      "source": [
        "Here's a function to count the number of nodes in a binary tree."
      ],
      "id": "collect-official"
    },
    {
      "cell_type": "code",
      "metadata": {
        "id": "presidential-development"
      },
      "source": [
        "def tree_size(node):\n",
        "    if node is None:\n",
        "        return 0\n",
        "    return 1 + tree_size(node.left) + tree_size(node.right)"
      ],
      "id": "presidential-development",
      "execution_count": 63,
      "outputs": []
    },
    {
      "cell_type": "code",
      "metadata": {
        "colab": {
          "base_uri": "https://localhost:8080/"
        },
        "id": "significant-cheat",
        "outputId": "cf8d6aae-28b0-45f8-e9b7-de3cfef7edcb"
      },
      "source": [
        "\n",
        "tree_size(tree)"
      ],
      "id": "significant-cheat",
      "execution_count": 64,
      "outputs": [
        {
          "output_type": "execute_result",
          "data": {
            "text/plain": [
              "9"
            ]
          },
          "metadata": {},
          "execution_count": 64
        }
      ]
    },
    {
      "cell_type": "markdown",
      "metadata": {
        "id": "substantial-electricity"
      },
      "source": [
        "**Exercise:** Try solving these problems relating to path lengths in a binary tree:\n",
        "\n",
        "* https://leetcode.com/problems/maximum-depth-of-binary-tree/\n",
        "* https://leetcode.com/problems/minimum-depth-of-binary-tree/\n",
        "* https://leetcode.com/problems/diameter-of-binary-tree/"
      ],
      "id": "substantial-electricity"
    },
    {
      "cell_type": "markdown",
      "metadata": {
        "id": "painted-auditor"
      },
      "source": [
        "As a final step, let's compile all the functions we've written so far as methods withing the `TreeNode` class itself. Encapsulation of data and functionality within the same class is a good programming practice."
      ],
      "id": "painted-auditor"
    },
    {
      "cell_type": "code",
      "metadata": {
        "id": "secret-macintosh"
      },
      "source": [
        "class TreeNode():\n",
        "    def __init__(self, key):\n",
        "        self.key, self.left, self.right = key, None, None\n",
        "    \n",
        "    def height(self):\n",
        "        if self is None:\n",
        "            return 0\n",
        "        return 1 + max(TreeNode.height(self.left), TreeNode.height(self.right))\n",
        "    \n",
        "    def size(self):\n",
        "        if self is None:\n",
        "            return 0\n",
        "        return 1 + TreeNode.size(self.left) + TreeNode.size(self.right)\n",
        "\n",
        "    def traverse_in_order(self):\n",
        "        if self is None: \n",
        "            return []\n",
        "        return (TreeNode.traverse_in_order(self.left) + \n",
        "                [self.key] + \n",
        "                TreeNode.traverse_in_order(self.right))\n",
        "    \n",
        "    def display_keys(self, space='\\t', level=0):\n",
        "        # If the node is empty\n",
        "        if self is None:\n",
        "            print(space*level + '∅')\n",
        "            return   \n",
        "\n",
        "        # If the node is a leaf \n",
        "        if self.left is None and self.right is None:\n",
        "            print(space*level + str(self.key))\n",
        "            return\n",
        "\n",
        "        # If the node has children\n",
        "        display_keys(self.right, space, level+1)\n",
        "        print(space*level + str(self.key))\n",
        "        display_keys(self.left,space, level+1)    \n",
        "    \n",
        "    def to_tuple(self):\n",
        "        if self is None:\n",
        "            return None\n",
        "        if self.left is None and self.right is None:\n",
        "            return self.key\n",
        "        return TreeNode.to_tuple(self.left),  self.key, TreeNode.to_tuple(self.right)\n",
        "    \n",
        "    def __str__(self):\n",
        "        return \"BinaryTree <{}>\".format(self.to_tuple())\n",
        "    \n",
        "    def __repr__(self):\n",
        "        return \"BinaryTree <{}>\".format(self.to_tuple())\n",
        "    \n",
        "    @staticmethod    \n",
        "    def parse_tuple(data):\n",
        "        if data is None:\n",
        "            node = None\n",
        "        elif isinstance(data, tuple) and len(data) == 3:\n",
        "            node = TreeNode(data[1])\n",
        "            node.left = TreeNode.parse_tuple(data[0])\n",
        "            node.right = TreeNode.parse_tuple(data[2])\n",
        "        else:\n",
        "            node = TreeNode(data)\n",
        "        return node"
      ],
      "id": "secret-macintosh",
      "execution_count": 65,
      "outputs": []
    },
    {
      "cell_type": "markdown",
      "metadata": {
        "id": "consolidated-language"
      },
      "source": [
        "The class method invocations `TreeNode.height(node)` and `node.height()` are equivalent. Can you guess why we're using the former in the function definitions above? Hint: Track the recursive calls. Discuss on the forum: https://jovian.ai/forum/c/data-structures-and-algorithms-in-python/lesson-2/82\n",
        "\n",
        "Let's try out the various methods defined above for this tree:\n",
        "\n",
        "<img src=\"https://i.imgur.com/d7djJAf.png\" width=\"540\">"
      ],
      "id": "consolidated-language"
    },
    {
      "cell_type": "code",
      "metadata": {
        "colab": {
          "base_uri": "https://localhost:8080/"
        },
        "id": "failing-chrome",
        "outputId": "7b079af5-f102-4992-b882-684c8a66ad1b"
      },
      "source": [
        "tree_tuple"
      ],
      "id": "failing-chrome",
      "execution_count": 66,
      "outputs": [
        {
          "output_type": "execute_result",
          "data": {
            "text/plain": [
              "((1, 3, None), 2, ((None, 3, 4), 5, (6, 7, 8)))"
            ]
          },
          "metadata": {},
          "execution_count": 66
        }
      ]
    },
    {
      "cell_type": "code",
      "metadata": {
        "id": "extreme-filling"
      },
      "source": [
        "tree = TreeNode.parse_tuple(tree_tuple)"
      ],
      "id": "extreme-filling",
      "execution_count": 67,
      "outputs": []
    },
    {
      "cell_type": "code",
      "metadata": {
        "colab": {
          "base_uri": "https://localhost:8080/"
        },
        "id": "dynamic-satellite",
        "outputId": "b3c5e10c-b496-4ddc-f433-63b100b62b2f"
      },
      "source": [
        "tree"
      ],
      "id": "dynamic-satellite",
      "execution_count": 68,
      "outputs": [
        {
          "output_type": "execute_result",
          "data": {
            "text/plain": [
              "BinaryTree <((1, 3, None), 2, ((None, 3, 4), 5, (6, 7, 8)))>"
            ]
          },
          "metadata": {},
          "execution_count": 68
        }
      ]
    },
    {
      "cell_type": "code",
      "metadata": {
        "colab": {
          "base_uri": "https://localhost:8080/"
        },
        "id": "engaging-neutral",
        "outputId": "278ee6af-0a30-48db-91c3-1d8d63ff0573"
      },
      "source": [
        "tree.display_keys('  ')"
      ],
      "id": "engaging-neutral",
      "execution_count": 69,
      "outputs": [
        {
          "output_type": "stream",
          "name": "stdout",
          "text": [
            "      8\n",
            "    7\n",
            "      6\n",
            "  5\n",
            "      4\n",
            "    3\n",
            "      ∅\n",
            "2\n",
            "    ∅\n",
            "  3\n",
            "    1\n"
          ]
        }
      ]
    },
    {
      "cell_type": "code",
      "metadata": {
        "colab": {
          "base_uri": "https://localhost:8080/"
        },
        "id": "signal-decimal",
        "outputId": "3340a5ee-84af-46cd-8572-8fb59efefc9b"
      },
      "source": [
        "tree.height()"
      ],
      "id": "signal-decimal",
      "execution_count": 70,
      "outputs": [
        {
          "output_type": "execute_result",
          "data": {
            "text/plain": [
              "4"
            ]
          },
          "metadata": {},
          "execution_count": 70
        }
      ]
    },
    {
      "cell_type": "code",
      "metadata": {
        "colab": {
          "base_uri": "https://localhost:8080/"
        },
        "id": "chinese-swimming",
        "outputId": "3fb3abe3-fe33-4c8a-b444-e83a6ffbc3a9"
      },
      "source": [
        "tree.size()"
      ],
      "id": "chinese-swimming",
      "execution_count": 71,
      "outputs": [
        {
          "output_type": "execute_result",
          "data": {
            "text/plain": [
              "9"
            ]
          },
          "metadata": {},
          "execution_count": 71
        }
      ]
    },
    {
      "cell_type": "code",
      "metadata": {
        "colab": {
          "base_uri": "https://localhost:8080/"
        },
        "id": "hearing-network",
        "outputId": "69c43a19-a24c-45b5-b23c-501f684f8f63"
      },
      "source": [
        "tree.traverse_in_order()"
      ],
      "id": "hearing-network",
      "execution_count": 72,
      "outputs": [
        {
          "output_type": "execute_result",
          "data": {
            "text/plain": [
              "[1, 3, 2, 3, 4, 5, 6, 7, 8]"
            ]
          },
          "metadata": {},
          "execution_count": 72
        }
      ]
    },
    {
      "cell_type": "code",
      "metadata": {
        "colab": {
          "base_uri": "https://localhost:8080/"
        },
        "id": "protected-vermont",
        "outputId": "cd218250-e690-4887-f162-8af93096d19f"
      },
      "source": [
        "tree.to_tuple()"
      ],
      "id": "protected-vermont",
      "execution_count": 73,
      "outputs": [
        {
          "output_type": "execute_result",
          "data": {
            "text/plain": [
              "((1, 3, None), 2, ((None, 3, 4), 5, (6, 7, 8)))"
            ]
          },
          "metadata": {},
          "execution_count": 73
        }
      ]
    },
    {
      "cell_type": "markdown",
      "metadata": {
        "id": "secondary-potter"
      },
      "source": [
        "**Exercise:** Create some more trees and try out the operations defined above. Add more operations to the `TreeNode` class."
      ],
      "id": "secondary-potter"
    },
    {
      "cell_type": "code",
      "metadata": {
        "id": "respiratory-invalid"
      },
      "source": [
        ""
      ],
      "id": "respiratory-invalid",
      "execution_count": 73,
      "outputs": []
    },
    {
      "cell_type": "code",
      "metadata": {
        "id": "higher-table"
      },
      "source": [
        ""
      ],
      "id": "higher-table",
      "execution_count": 73,
      "outputs": []
    },
    {
      "cell_type": "code",
      "metadata": {
        "id": "turkish-memorabilia"
      },
      "source": [
        ""
      ],
      "id": "turkish-memorabilia",
      "execution_count": 73,
      "outputs": []
    },
    {
      "cell_type": "markdown",
      "metadata": {
        "id": "dangerous-sweet"
      },
      "source": [
        "## Binary Search Tree (BST)\n",
        "\n",
        "A binary search tree or BST is a binary tree that satisfies the following conditions:\n",
        "\n",
        "1. The left subtree of any node only contains nodes with keys less than the node's key\n",
        "2. The right subtree of any node only contains nodes with keys greater than the node's key\n",
        "\n",
        "It follows from the above conditions that every subtree of a binary search tree must also be a binary search tree.\n",
        "\n",
        "\n",
        "> **QUESTION 8**: Write a function to check if a binary tree is a binary search tree (BST).\n",
        "\n",
        "> **QUESTION 9**: Write a function to find the maximum key in a binary tree.\n",
        "\n",
        "> **QUESTION 10**: Write a function to find the minimum key in a binary tree.\n",
        "\n",
        "\n",
        "Here's a function that covers all of the above:"
      ],
      "id": "dangerous-sweet"
    },
    {
      "cell_type": "code",
      "metadata": {
        "id": "silver-credit"
      },
      "source": [
        "def remove_none(nums):\n",
        "    return [x for x in nums if x is not None]\n",
        "\n",
        "def is_bst(node):\n",
        "    if node is None:\n",
        "        return True, None, None\n",
        "    \n",
        "    is_bst_l, min_l, max_l = is_bst(node.left)\n",
        "    is_bst_r, min_r, max_r = is_bst(node.right)\n",
        "    \n",
        "    is_bst_node = (is_bst_l and is_bst_r and \n",
        "              (max_l is None or node.key > max_l) and \n",
        "              (min_r is None or node.key < min_r))\n",
        "    \n",
        "    min_key = min(remove_none([min_l, node.key, min_r]))\n",
        "    max_key = max(remove_none([max_l, node.key, max_r]))\n",
        "    \n",
        "    # print(node.key, min_key, max_key, is_bst_node)\n",
        "        \n",
        "    return is_bst_node, min_key, max_key"
      ],
      "id": "silver-credit",
      "execution_count": 74,
      "outputs": []
    },
    {
      "cell_type": "markdown",
      "metadata": {
        "id": "consistent-concentrate"
      },
      "source": [
        "The following tree is not a BST (because a node with the key 3 appears in the left subtree of a node with the key 2):\n",
        "\n",
        "<img src=\"https://i.imgur.com/d7djJAf.png\" width=\"540\">\n",
        "\n",
        "Let's verify this using `is_bst`."
      ],
      "id": "consistent-concentrate"
    },
    {
      "cell_type": "code",
      "metadata": {
        "id": "dying-rates"
      },
      "source": [
        "tree1 = TreeNode.parse_tuple(((1, 3, None), 2, ((None, 3, 4), 5, (6, 7, 8))))"
      ],
      "id": "dying-rates",
      "execution_count": 75,
      "outputs": []
    },
    {
      "cell_type": "code",
      "metadata": {
        "colab": {
          "base_uri": "https://localhost:8080/"
        },
        "id": "innocent-triumph",
        "outputId": "f1772eed-dd06-49c8-90f1-c4fa5cf9be9f"
      },
      "source": [
        "is_bst(tree1)"
      ],
      "id": "innocent-triumph",
      "execution_count": 76,
      "outputs": [
        {
          "output_type": "execute_result",
          "data": {
            "text/plain": [
              "(False, 1, 8)"
            ]
          },
          "metadata": {},
          "execution_count": 76
        }
      ]
    },
    {
      "cell_type": "markdown",
      "metadata": {
        "id": "polish-offering"
      },
      "source": [
        "On the other hand, the following tree is a BST:\n",
        "\n",
        "<img src=\"https://i.imgur.com/JZeF9ix.png\" width=\"520\">\n",
        "\n",
        "Let's create this tree and verify that it is a BST. Note that the `TreeNode` class also supports using strings as keys, as strings support the comparison operators `<` and `>` too."
      ],
      "id": "polish-offering"
    },
    {
      "cell_type": "code",
      "metadata": {
        "id": "about-kenya"
      },
      "source": [
        "tree2 = TreeNode.parse_tuple((('aakash', 'biraj', 'hemanth')  , 'jadhesh', ('siddhant', 'sonaksh', 'vishal')))"
      ],
      "id": "about-kenya",
      "execution_count": 77,
      "outputs": []
    },
    {
      "cell_type": "code",
      "metadata": {
        "colab": {
          "base_uri": "https://localhost:8080/"
        },
        "id": "german-volleyball",
        "outputId": "9ac7aa0e-d85f-497e-b66d-390b11179016"
      },
      "source": [
        "is_bst(tree2)"
      ],
      "id": "german-volleyball",
      "execution_count": 78,
      "outputs": [
        {
          "output_type": "execute_result",
          "data": {
            "text/plain": [
              "(True, 'aakash', 'vishal')"
            ]
          },
          "metadata": {},
          "execution_count": 78
        }
      ]
    },
    {
      "cell_type": "markdown",
      "metadata": {
        "id": "strategic-incentive"
      },
      "source": [
        "**Exercise:** Test the `is_bst` function with some more examples using the empty cells below."
      ],
      "id": "strategic-incentive"
    },
    {
      "cell_type": "code",
      "metadata": {
        "id": "frank-jonathan"
      },
      "source": [
        ""
      ],
      "id": "frank-jonathan",
      "execution_count": 78,
      "outputs": []
    },
    {
      "cell_type": "code",
      "metadata": {
        "id": "auburn-delaware"
      },
      "source": [
        ""
      ],
      "id": "auburn-delaware",
      "execution_count": 78,
      "outputs": []
    },
    {
      "cell_type": "markdown",
      "metadata": {
        "id": "adjustable-upper"
      },
      "source": [
        "## Storing Key-Value Pairs using BSTs\n",
        "\n",
        "Recall that we need to store user objects with each key in our BST. Let's define new class `BSTNode` to represent the nodes of of our tree. Apart from having properties `key`, `left` and `right`, we'll also store a `value` and pointer to the parent node (for easier upward traversal)."
      ],
      "id": "adjustable-upper"
    },
    {
      "cell_type": "code",
      "metadata": {
        "id": "polish-maker"
      },
      "source": [
        "class BSTNode():\n",
        "    def __init__(self, key, value=None):\n",
        "        self.key = key\n",
        "        self.value = value\n",
        "        self.left = None\n",
        "        self.right = None\n",
        "        self.parent = None"
      ],
      "id": "polish-maker",
      "execution_count": 79,
      "outputs": []
    },
    {
      "cell_type": "markdown",
      "metadata": {
        "id": "literary-effect"
      },
      "source": [
        "Let's try to recreate this BST with usernames as keys and user objects as values:\n",
        "\n",
        "<img src=\"https://i.imgur.com/JZeF9ix.png\" width=\"520\">"
      ],
      "id": "literary-effect"
    },
    {
      "cell_type": "code",
      "metadata": {
        "id": "theoretical-cleaner"
      },
      "source": [
        "# Level 0\n",
        "tree = BSTNode(jadhesh.username, jadhesh)"
      ],
      "id": "theoretical-cleaner",
      "execution_count": 80,
      "outputs": []
    },
    {
      "cell_type": "code",
      "metadata": {
        "colab": {
          "base_uri": "https://localhost:8080/"
        },
        "id": "homeless-welsh",
        "outputId": "2d05b1d9-11cf-4868-a902-df4a1e8dc225"
      },
      "source": [
        "# View Level 0\n",
        "tree.key, tree.value"
      ],
      "id": "homeless-welsh",
      "execution_count": 81,
      "outputs": [
        {
          "output_type": "execute_result",
          "data": {
            "text/plain": [
              "('jadhesh',\n",
              " User(username='jadhesh', name='Jadhesh Verma', email='jadhesh@example.com'))"
            ]
          },
          "metadata": {},
          "execution_count": 81
        }
      ]
    },
    {
      "cell_type": "code",
      "metadata": {
        "id": "alternate-antenna"
      },
      "source": [
        "# Level 1\n",
        "tree.left = BSTNode(biraj.username, biraj)\n",
        "tree.right = BSTNode(sonaksh.username, sonaksh)"
      ],
      "id": "alternate-antenna",
      "execution_count": 82,
      "outputs": []
    },
    {
      "cell_type": "code",
      "metadata": {
        "colab": {
          "base_uri": "https://localhost:8080/"
        },
        "id": "assured-czech",
        "outputId": "e9d4ffb0-1a32-4200-bd15-51cb0f652d9f"
      },
      "source": [
        "# View Level 1\n",
        "tree.left.key, tree.left.value, tree.right.key, tree.right.value"
      ],
      "id": "assured-czech",
      "execution_count": 83,
      "outputs": [
        {
          "output_type": "execute_result",
          "data": {
            "text/plain": [
              "('biraj',\n",
              " User(username='biraj', name='Biraj Das', email='biraj@example.com'),\n",
              " 'sonaksh',\n",
              " User(username='sonaksh', name='Sonaksh Kumar', email='sonaksh@example.com'))"
            ]
          },
          "metadata": {},
          "execution_count": 83
        }
      ]
    },
    {
      "cell_type": "markdown",
      "metadata": {
        "id": "sporting-youth"
      },
      "source": [
        "**Exercise:** Add the next layer of nodes to the tree and verify that they were added properly."
      ],
      "id": "sporting-youth"
    },
    {
      "cell_type": "code",
      "metadata": {
        "id": "classical-trigger"
      },
      "source": [
        ""
      ],
      "id": "classical-trigger",
      "execution_count": 83,
      "outputs": []
    },
    {
      "cell_type": "code",
      "metadata": {
        "id": "common-cruise"
      },
      "source": [
        ""
      ],
      "id": "common-cruise",
      "execution_count": 83,
      "outputs": []
    },
    {
      "cell_type": "markdown",
      "metadata": {
        "id": "drawn-coverage"
      },
      "source": [
        "We can use the same `display_keys` function we defined earlier to visualize our tree."
      ],
      "id": "drawn-coverage"
    },
    {
      "cell_type": "code",
      "metadata": {
        "colab": {
          "base_uri": "https://localhost:8080/"
        },
        "id": "living-therapist",
        "outputId": "651d8f6b-1eb9-40d1-cf6c-4b62b253c9f5"
      },
      "source": [
        "display_keys(tree)"
      ],
      "id": "living-therapist",
      "execution_count": 84,
      "outputs": [
        {
          "output_type": "stream",
          "name": "stdout",
          "text": [
            "\tsonaksh\n",
            "jadhesh\n",
            "\tbiraj\n"
          ]
        }
      ]
    },
    {
      "cell_type": "markdown",
      "metadata": {
        "id": "latin-discharge"
      },
      "source": [
        "### Insertion into BST\n",
        "\n",
        "\n",
        "> **QUESTION 11**: Write a function to insert a new node into a BST.\n",
        "\n",
        "\n",
        "We use the BST-property to perform insertion efficiently: \n",
        "\n",
        "1. Starting from the root node, we compare the key to be inserted with the current node's key\n",
        "2. If the key is smaller, we recursively insert it in the left subtree (if it exists) or attach it as as the left child if no left subtree exists.\n",
        "3. If the key is larger, we recursively insert it in the right subtree (if it exists) or attach it as as the right child if no right subtree exists.\n",
        "\n",
        "Here's a recursive implementation of `insert`."
      ],
      "id": "latin-discharge"
    },
    {
      "cell_type": "code",
      "metadata": {
        "id": "technical-parks"
      },
      "source": [
        "def insert(node, key, value):\n",
        "    if node is None:\n",
        "        node = BSTNode(key, value)\n",
        "    elif key < node.key:\n",
        "        node.left = insert(node.left, key, value)\n",
        "        node.left.parent = node\n",
        "    elif key > node.key:\n",
        "        node.right = insert(node.right, key, value)\n",
        "        node.right.parent = node\n",
        "    return node"
      ],
      "id": "technical-parks",
      "execution_count": 102,
      "outputs": []
    },
    {
      "cell_type": "markdown",
      "metadata": {
        "id": "registered-cocktail"
      },
      "source": [
        "Let's use this to recreate our tree.\n",
        "\n",
        "<img src=\"https://i.imgur.com/JZeF9ix.png\" width=\"520\">\n",
        "\n",
        "To create the first node, we can use the `insert` function with `None` as the target tree."
      ],
      "id": "registered-cocktail"
    },
    {
      "cell_type": "code",
      "metadata": {
        "id": "skilled-quantum"
      },
      "source": [
        "tree = insert(None, jadhesh.username, jadhesh)"
      ],
      "id": "skilled-quantum",
      "execution_count": 103,
      "outputs": []
    },
    {
      "cell_type": "markdown",
      "metadata": {
        "id": "authorized-beijing"
      },
      "source": [
        "The remaining nodes can now be inserted into `tree`."
      ],
      "id": "authorized-beijing"
    },
    {
      "cell_type": "code",
      "metadata": {
        "colab": {
          "base_uri": "https://localhost:8080/"
        },
        "id": "egyptian-category",
        "outputId": "cf50638a-56f8-4916-9588-7b641d03c661"
      },
      "source": [
        "insert(tree, biraj.username, biraj)\n",
        "insert(tree, sonaksh.username, sonaksh)\n",
        "insert(tree, aakash.username, aakash)\n",
        "insert(tree, hemanth.username, hemanth)\n",
        "insert(tree, siddhant.username, siddhant)\n",
        "insert(tree, vishal.username, siddhant)"
      ],
      "id": "egyptian-category",
      "execution_count": 104,
      "outputs": [
        {
          "output_type": "execute_result",
          "data": {
            "text/plain": [
              "<__main__.BSTNode at 0x7f5dc581bb50>"
            ]
          },
          "metadata": {},
          "execution_count": 104
        }
      ]
    },
    {
      "cell_type": "code",
      "metadata": {
        "colab": {
          "base_uri": "https://localhost:8080/"
        },
        "id": "romance-sullivan",
        "outputId": "41a2cc3c-f812-41de-dd34-7e0155c461f0"
      },
      "source": [
        "display_keys(tree)"
      ],
      "id": "romance-sullivan",
      "execution_count": 105,
      "outputs": [
        {
          "output_type": "stream",
          "name": "stdout",
          "text": [
            "\t\tvishal\n",
            "\tsonaksh\n",
            "\t\tsiddhant\n",
            "jadhesh\n",
            "\t\themanth\n",
            "\tbiraj\n",
            "\t\taakash\n"
          ]
        }
      ]
    },
    {
      "cell_type": "markdown",
      "metadata": {
        "id": "inappropriate-stream"
      },
      "source": [
        "Perfect! The tree was created as expected. \n",
        "\n",
        "Note, however, that the order of insertion of nodes change the structure of the resulting tree."
      ],
      "id": "inappropriate-stream"
    },
    {
      "cell_type": "code",
      "metadata": {
        "colab": {
          "base_uri": "https://localhost:8080/"
        },
        "id": "martial-batch",
        "outputId": "a4bc7aaf-ff6a-45ec-9f4b-2c17482b6922"
      },
      "source": [
        "tree2 = insert(None, aakash.username, aakash)\n",
        "insert(tree2, biraj.username, biraj)\n",
        "insert(tree2, hemanth.username, hemanth)\n",
        "insert(tree2, jadhesh.username, jadhesh)\n",
        "insert(tree2, siddhant.username, siddhant)\n",
        "insert(tree2, sonaksh.username, sonaksh)\n",
        "insert(tree2, vishal.username, vishal)"
      ],
      "id": "martial-batch",
      "execution_count": 106,
      "outputs": [
        {
          "output_type": "execute_result",
          "data": {
            "text/plain": [
              "<__main__.BSTNode at 0x7f5dc5852b90>"
            ]
          },
          "metadata": {},
          "execution_count": 106
        }
      ]
    },
    {
      "cell_type": "code",
      "metadata": {
        "colab": {
          "base_uri": "https://localhost:8080/"
        },
        "id": "julian-scholarship",
        "outputId": "8b458d40-ad5a-4632-a185-f848495d2943"
      },
      "source": [
        "display_keys(tree2)"
      ],
      "id": "julian-scholarship",
      "execution_count": 107,
      "outputs": [
        {
          "output_type": "stream",
          "name": "stdout",
          "text": [
            "\t\t\t\t\t\tvishal\n",
            "\t\t\t\t\tsonaksh\n",
            "\t\t\t\t\t\t∅\n",
            "\t\t\t\tsiddhant\n",
            "\t\t\t\t\t∅\n",
            "\t\t\tjadhesh\n",
            "\t\t\t\t∅\n",
            "\t\themanth\n",
            "\t\t\t∅\n",
            "\tbiraj\n",
            "\t\t∅\n",
            "aakash\n",
            "\t∅\n"
          ]
        }
      ]
    },
    {
      "cell_type": "markdown",
      "metadata": {
        "id": "enormous-block"
      },
      "source": [
        "Can you see why the tree created above is skewed/unbalanced?\n",
        "\n",
        "<img src=\"https://i.imgur.com/lP5Thct.png\" width=\"520\">\n",
        "\n",
        "Skewed/unbalanced BSTs are problematic because the height of such trees often ceases to logarithmic compared to the number of nodes in the tree. For instance the above tree has 7 nodes and height 7.\n",
        "\n",
        "The length of the path traversed by `insert` is equal to the height of the tree (in the worst case). It follows that if the tree is balanced, the time complexity of insertion is `O(log N)` otherwise it is `O(N)`."
      ],
      "id": "enormous-block"
    },
    {
      "cell_type": "code",
      "metadata": {
        "colab": {
          "base_uri": "https://localhost:8080/"
        },
        "id": "changing-trunk",
        "outputId": "c4689aa2-4221-41c4-beaa-e9aa98c3dff0"
      },
      "source": [
        "tree_height(tree2)"
      ],
      "id": "changing-trunk",
      "execution_count": 108,
      "outputs": [
        {
          "output_type": "execute_result",
          "data": {
            "text/plain": [
              "7"
            ]
          },
          "metadata": {},
          "execution_count": 108
        }
      ]
    },
    {
      "cell_type": "markdown",
      "metadata": {
        "id": "received-charles"
      },
      "source": [
        "**Exercise:** Create some more balanced and unbalanced BSTs using the `insert` function defined above."
      ],
      "id": "received-charles"
    },
    {
      "cell_type": "code",
      "metadata": {
        "id": "conventional-title"
      },
      "source": [
        ""
      ],
      "id": "conventional-title",
      "execution_count": 108,
      "outputs": []
    },
    {
      "cell_type": "code",
      "metadata": {
        "id": "forward-function"
      },
      "source": [
        ""
      ],
      "id": "forward-function",
      "execution_count": 108,
      "outputs": []
    },
    {
      "cell_type": "markdown",
      "metadata": {
        "id": "affecting-hormone"
      },
      "source": [
        "### Finding a Node in BST\n",
        "\n",
        "> **QUESTION 11**: Find the value associated with a given key in a BST.\n",
        "\n",
        "We can follow a recursive strategy similar to insertion to find the node with a given key within a BST."
      ],
      "id": "affecting-hormone"
    },
    {
      "cell_type": "code",
      "metadata": {
        "id": "bizarre-concentrate"
      },
      "source": [
        "def find(node, key):\n",
        "    if node is None:\n",
        "        return None\n",
        "    if key == node.key:\n",
        "        return node\n",
        "    if key < node.key:\n",
        "        return find(node.left, key)\n",
        "    if key > node.key:\n",
        "        return find(node.right, key)"
      ],
      "id": "bizarre-concentrate",
      "execution_count": 92,
      "outputs": []
    },
    {
      "cell_type": "markdown",
      "metadata": {
        "id": "governmental-chocolate"
      },
      "source": [
        "<img src=\"https://i.imgur.com/dzDszlw.png\" width=\"520\">"
      ],
      "id": "governmental-chocolate"
    },
    {
      "cell_type": "code",
      "metadata": {
        "id": "chemical-switzerland"
      },
      "source": [
        "node = find(tree, 'hemanth')"
      ],
      "id": "chemical-switzerland",
      "execution_count": 93,
      "outputs": []
    },
    {
      "cell_type": "code",
      "metadata": {
        "colab": {
          "base_uri": "https://localhost:8080/"
        },
        "id": "adjacent-advisory",
        "outputId": "b722bda0-50bb-4326-c212-2d3de327374c"
      },
      "source": [
        "node.key, node.value"
      ],
      "id": "adjacent-advisory",
      "execution_count": 94,
      "outputs": [
        {
          "output_type": "execute_result",
          "data": {
            "text/plain": [
              "('hemanth',\n",
              " User(username='hemanth', name='Hemanth Jain', email='hemanth@example.com'))"
            ]
          },
          "metadata": {},
          "execution_count": 94
        }
      ]
    },
    {
      "cell_type": "markdown",
      "metadata": {
        "id": "gentle-bosnia"
      },
      "source": [
        "The the length of the path followed by `find` is equal to the height of the tree (in the worst case). Thus it has a similar time complexity as `insert`.\n",
        "\n",
        "**Example:** Try finding some more nodes from the BST created above (or create new trees)."
      ],
      "id": "gentle-bosnia"
    },
    {
      "cell_type": "code",
      "metadata": {
        "id": "generic-verification"
      },
      "source": [
        ""
      ],
      "id": "generic-verification",
      "execution_count": 94,
      "outputs": []
    },
    {
      "cell_type": "code",
      "metadata": {
        "id": "usual-april"
      },
      "source": [
        ""
      ],
      "id": "usual-april",
      "execution_count": 94,
      "outputs": []
    },
    {
      "cell_type": "markdown",
      "metadata": {
        "id": "fuzzy-general"
      },
      "source": [
        "### Updating a value in a BST\n",
        "\n",
        "> **QUESTION 12:** Write a function to update the value associated with a given key within a BST\n",
        "\n",
        "We can use `find` to locate the node to be updated, and simply update it's value."
      ],
      "id": "fuzzy-general"
    },
    {
      "cell_type": "code",
      "metadata": {
        "id": "unlikely-geneva"
      },
      "source": [
        "def update(node, key, value):\n",
        "    target = find(node, key)\n",
        "    if target is not None:\n",
        "        target.value = value"
      ],
      "id": "unlikely-geneva",
      "execution_count": 95,
      "outputs": []
    },
    {
      "cell_type": "code",
      "metadata": {
        "id": "requested-medicine"
      },
      "source": [
        "update(tree, 'hemanth', User('hemanth', 'Hemanth J', 'hemanthj@example.com'))"
      ],
      "id": "requested-medicine",
      "execution_count": 96,
      "outputs": []
    },
    {
      "cell_type": "code",
      "metadata": {
        "colab": {
          "base_uri": "https://localhost:8080/"
        },
        "id": "serious-lithuania",
        "outputId": "96e4222f-5835-4e69-e467-c2eb29802aa4"
      },
      "source": [
        "node = find(tree, 'hemanth')\n",
        "node.value"
      ],
      "id": "serious-lithuania",
      "execution_count": 97,
      "outputs": [
        {
          "output_type": "execute_result",
          "data": {
            "text/plain": [
              "User(username='hemanth', name='Hemanth J', email='hemanthj@example.com')"
            ]
          },
          "metadata": {},
          "execution_count": 97
        }
      ]
    },
    {
      "cell_type": "markdown",
      "metadata": {
        "id": "neutral-effects"
      },
      "source": [
        "The value of the node was successfully updated. The time complexity of `update` is the same as that of `find`.\n",
        "\n",
        "**Exercise:** Try some more update operations using the BST created earlier."
      ],
      "id": "neutral-effects"
    },
    {
      "cell_type": "code",
      "metadata": {
        "id": "utility-semiconductor"
      },
      "source": [
        ""
      ],
      "id": "utility-semiconductor",
      "execution_count": 97,
      "outputs": []
    },
    {
      "cell_type": "code",
      "metadata": {
        "id": "sweet-logging"
      },
      "source": [
        ""
      ],
      "id": "sweet-logging",
      "execution_count": 97,
      "outputs": []
    },
    {
      "cell_type": "markdown",
      "metadata": {
        "id": "dramatic-bleeding"
      },
      "source": [
        "### List the nodes\n",
        "\n",
        "> **QUESTION 13:** Write a function to retrieve all the key-values pairs stored in a BST in the sorted order of keys.\n",
        "\n",
        "The nodes can be listed in sorted order by performing an inorder traversal of the BST."
      ],
      "id": "dramatic-bleeding"
    },
    {
      "cell_type": "code",
      "metadata": {
        "id": "independent-contrary"
      },
      "source": [
        "def list_all(node):\n",
        "    if node is None:\n",
        "        return []\n",
        "    return list_all(node.left) + [(node.key, node.value)] + list_all(node.right)"
      ],
      "id": "independent-contrary",
      "execution_count": 109,
      "outputs": []
    },
    {
      "cell_type": "code",
      "metadata": {
        "colab": {
          "base_uri": "https://localhost:8080/"
        },
        "id": "acquired-japan",
        "outputId": "16f25158-fa4c-4cf8-90a1-d1f8e34e67a6"
      },
      "source": [
        "list_all(tree)"
      ],
      "id": "acquired-japan",
      "execution_count": 110,
      "outputs": [
        {
          "output_type": "execute_result",
          "data": {
            "text/plain": [
              "[('aakash',\n",
              "  User(username='aakash', name='Aakash Rai', email='aakash@example.com')),\n",
              " ('biraj',\n",
              "  User(username='biraj', name='Biraj Das', email='biraj@example.com')),\n",
              " ('hemanth',\n",
              "  User(username='hemanth', name='Hemanth Jain', email='hemanth@example.com')),\n",
              " ('jadhesh',\n",
              "  User(username='jadhesh', name='Jadhesh Verma', email='jadhesh@example.com')),\n",
              " ('siddhant',\n",
              "  User(username='siddhant', name='Siddhant U', email='siddhantu@example.com')),\n",
              " ('sonaksh',\n",
              "  User(username='sonaksh', name='Sonaksh Kumar', email='sonaksh@example.com')),\n",
              " ('vishal',\n",
              "  User(username='siddhant', name='Siddhant U', email='siddhantu@example.com'))]"
            ]
          },
          "metadata": {},
          "execution_count": 110
        }
      ]
    },
    {
      "cell_type": "markdown",
      "metadata": {
        "id": "traditional-disclaimer"
      },
      "source": [
        "**Exercise:** Determine the time complexity and space complexity of `list_all`."
      ],
      "id": "traditional-disclaimer"
    },
    {
      "cell_type": "code",
      "metadata": {
        "id": "reliable-algorithm"
      },
      "source": [
        "import jovian"
      ],
      "id": "reliable-algorithm",
      "execution_count": 111,
      "outputs": []
    },
    {
      "cell_type": "code",
      "metadata": {
        "colab": {
          "base_uri": "https://localhost:8080/",
          "height": 87
        },
        "id": "offensive-escape",
        "outputId": "3707472a-9e35-4164-f40a-d53ff715d81a"
      },
      "source": [
        "jovian.commit()"
      ],
      "id": "offensive-escape",
      "execution_count": 112,
      "outputs": [
        {
          "output_type": "stream",
          "name": "stdout",
          "text": [
            "[jovian] Detected Colab notebook...\u001b[0m\n",
            "[jovian] Uploading colab notebook to Jovian...\u001b[0m\n",
            "Committed successfully! https://jovian.ai/pepeette/python-binary-search-trees\n"
          ]
        },
        {
          "output_type": "execute_result",
          "data": {
            "application/vnd.google.colaboratory.intrinsic+json": {
              "type": "string"
            },
            "text/plain": [
              "'https://jovian.ai/pepeette/python-binary-search-trees'"
            ]
          },
          "metadata": {},
          "execution_count": 112
        }
      ]
    },
    {
      "cell_type": "markdown",
      "metadata": {
        "id": "constitutional-charleston"
      },
      "source": [
        "## Balanced Binary Trees\n",
        "\n",
        "> **QUESTION 14**: Write a function to determine if a binary tree is balanced.\n",
        "\n",
        "Here's a recursive strategy:\n",
        "\n",
        "1. Ensure that the left subtree is balanced.\n",
        "2. Ensure that the right subtree is balanced.\n",
        "3. Ensure that the difference between heights of left subtree and right subtree is not more than 1.\n",
        "\n"
      ],
      "id": "constitutional-charleston"
    },
    {
      "cell_type": "code",
      "metadata": {
        "id": "downtown-isaac"
      },
      "source": [
        "def is_balanced(node):\n",
        "    if node is None:\n",
        "        return True, 0\n",
        "    balanced_l, height_l = is_balanced(node.left)\n",
        "    balanced_r, height_r = is_balanced(node.right)\n",
        "    balanced = balanced_l and balanced_r and abs(height_l - height_r) <=1\n",
        "    height = 1 + max(height_l, height_r)\n",
        "    return balanced, height"
      ],
      "id": "downtown-isaac",
      "execution_count": 113,
      "outputs": []
    },
    {
      "cell_type": "markdown",
      "metadata": {
        "id": "polar-calculator"
      },
      "source": [
        "The following tree is balanced:\n",
        "\n",
        "<img src=\"https://i.imgur.com/JZeF9ix.png\" width=\"520\">"
      ],
      "id": "polar-calculator"
    },
    {
      "cell_type": "code",
      "metadata": {
        "colab": {
          "base_uri": "https://localhost:8080/"
        },
        "id": "bigger-movie",
        "outputId": "dce4314c-d46d-4b9c-f8c8-dc9a4ac5c798"
      },
      "source": [
        "is_balanced(tree)"
      ],
      "id": "bigger-movie",
      "execution_count": 114,
      "outputs": [
        {
          "output_type": "execute_result",
          "data": {
            "text/plain": [
              "(True, 3)"
            ]
          },
          "metadata": {},
          "execution_count": 114
        }
      ]
    },
    {
      "cell_type": "markdown",
      "metadata": {
        "id": "institutional-board"
      },
      "source": [
        "The following tree is not balanced:\n",
        "\n",
        "<img src=\"https://i.imgur.com/lP5Thct.png\" width=\"520\">"
      ],
      "id": "institutional-board"
    },
    {
      "cell_type": "code",
      "metadata": {
        "colab": {
          "base_uri": "https://localhost:8080/"
        },
        "id": "coordinated-selection",
        "outputId": "5fd4792f-438f-440c-888c-0ce815858c03"
      },
      "source": [
        "is_balanced(tree2)"
      ],
      "id": "coordinated-selection",
      "execution_count": 115,
      "outputs": [
        {
          "output_type": "execute_result",
          "data": {
            "text/plain": [
              "(False, 7)"
            ]
          },
          "metadata": {},
          "execution_count": 115
        }
      ]
    },
    {
      "cell_type": "markdown",
      "metadata": {
        "id": "express-steal"
      },
      "source": [
        "**Exercise:** Is the tree shown below balanced? Why or why not? Create this tree and check if it's balanced using the `is_balanced` function.\n",
        "\n",
        "<img src=\"https://i.imgur.com/LlOT712.png\" width=\"520\">\n",
        "\n"
      ],
      "id": "express-steal"
    },
    {
      "cell_type": "code",
      "metadata": {
        "id": "indie-mississippi"
      },
      "source": [
        ""
      ],
      "id": "indie-mississippi",
      "execution_count": 115,
      "outputs": []
    },
    {
      "cell_type": "code",
      "metadata": {
        "id": "prescription-light"
      },
      "source": [
        ""
      ],
      "id": "prescription-light",
      "execution_count": 115,
      "outputs": []
    },
    {
      "cell_type": "markdown",
      "metadata": {
        "id": "flexible-budapest"
      },
      "source": [
        "Also try this related problem on *complete* binary trees: https://leetcode.com/problems/check-completeness-of-a-binary-tree/\n",
        "\n"
      ],
      "id": "flexible-budapest"
    },
    {
      "cell_type": "markdown",
      "metadata": {
        "id": "juvenile-coating"
      },
      "source": [
        "## Balanced Binary Search Trees\n",
        "\n",
        "> **QUESTION 15**: Write a function to create a balanced BST from a sorted list/array of key-value pairs.\n",
        "\n",
        "We can use a recursive strategy here, turning the middle element of the list into the root, and recursively creating left and right subtrees.\n"
      ],
      "id": "juvenile-coating"
    },
    {
      "cell_type": "code",
      "metadata": {
        "id": "equivalent-nerve"
      },
      "source": [
        "def make_balanced_bst(data, lo=0, hi=None, parent=None):\n",
        "    if hi is None:\n",
        "        hi = len(data) - 1\n",
        "    if lo > hi:\n",
        "        return None\n",
        "    \n",
        "    mid = (lo + hi) // 2\n",
        "    key, value = data[mid]\n",
        "\n",
        "    root = BSTNode(key, value)\n",
        "    root.parent = parent\n",
        "    root.left = make_balanced_bst(data, lo, mid-1, root)\n",
        "    root.right = make_balanced_bst(data, mid+1, hi, root)\n",
        "    \n",
        "    return root\n",
        "    "
      ],
      "id": "equivalent-nerve",
      "execution_count": null,
      "outputs": []
    },
    {
      "cell_type": "code",
      "metadata": {
        "id": "casual-payroll",
        "outputId": "1e941587-e793-4668-aa93-23ad15ec2e60"
      },
      "source": [
        "data = [(user.username, user) for user in users]\n",
        "data"
      ],
      "id": "casual-payroll",
      "execution_count": null,
      "outputs": [
        {
          "data": {
            "text/plain": [
              "[('aakash',\n",
              "  User(username='aakash', name='Aakash Rai', email='aakash@example.com')),\n",
              " ('biraj',\n",
              "  User(username='biraj', name='Biraj Das', email='biraj@example.com')),\n",
              " ('hemanth',\n",
              "  User(username='hemanth', name='Hemanth Jain', email='hemanth@example.com')),\n",
              " ('jadhesh',\n",
              "  User(username='jadhesh', name='Jadhesh Verma', email='jadhesh@example.com')),\n",
              " ('siddhant',\n",
              "  User(username='siddhant', name='Siddhant U', email='siddhantu@example.com')),\n",
              " ('sonaksh',\n",
              "  User(username='sonaksh', name='Sonaksh Kumar', email='sonaksh@example.com')),\n",
              " ('vishal',\n",
              "  User(username='vishal', name='Vishal Goel', email='vishal@example.com'))]"
            ]
          },
          "execution_count": 107,
          "metadata": {},
          "output_type": "execute_result"
        }
      ]
    },
    {
      "cell_type": "code",
      "metadata": {
        "id": "opened-establishment"
      },
      "source": [
        "tree = make_balanced_bst(data)"
      ],
      "id": "opened-establishment",
      "execution_count": null,
      "outputs": []
    },
    {
      "cell_type": "code",
      "metadata": {
        "id": "statistical-alert",
        "outputId": "e077f655-ab54-47de-839a-a9f23bd87b28"
      },
      "source": [
        "display_keys(tree)"
      ],
      "id": "statistical-alert",
      "execution_count": null,
      "outputs": [
        {
          "name": "stdout",
          "output_type": "stream",
          "text": [
            "\t\tvishal\n",
            "\tsonaksh\n",
            "\t\tsiddhant\n",
            "jadhesh\n",
            "\t\themanth\n",
            "\tbiraj\n",
            "\t\taakash\n"
          ]
        }
      ]
    },
    {
      "cell_type": "markdown",
      "metadata": {
        "id": "pleasant-hepatitis"
      },
      "source": [
        "<img src=\"https://i.imgur.com/JZeF9ix.png\" width=\"520\">\n",
        "\n",
        "Recall that the same list of users, when inserted one-by-one resulted in a skewed tree."
      ],
      "id": "pleasant-hepatitis"
    },
    {
      "cell_type": "code",
      "metadata": {
        "id": "pregnant-binding"
      },
      "source": [
        "tree3 = None\n",
        "for username, user in data:\n",
        "    tree3 = insert(tree3, username, user)"
      ],
      "id": "pregnant-binding",
      "execution_count": null,
      "outputs": []
    },
    {
      "cell_type": "code",
      "metadata": {
        "id": "measured-graduate"
      },
      "source": [
        ""
      ],
      "id": "measured-graduate",
      "execution_count": null,
      "outputs": []
    },
    {
      "cell_type": "code",
      "metadata": {
        "id": "unable-communications"
      },
      "source": [
        ""
      ],
      "id": "unable-communications",
      "execution_count": null,
      "outputs": []
    },
    {
      "cell_type": "code",
      "metadata": {
        "id": "affected-bikini"
      },
      "source": [
        ""
      ],
      "id": "affected-bikini",
      "execution_count": null,
      "outputs": []
    },
    {
      "cell_type": "markdown",
      "metadata": {
        "id": "computational-leader"
      },
      "source": [
        "## Balancing an Unbalanced BST\n",
        "\n",
        "> **QUESTION 16:** Write a function to balance an unbalanced binary search tree.\n",
        "\n",
        "We first perform an inorder traversal, then create a balanced BST using the function defined earlier."
      ],
      "id": "computational-leader"
    },
    {
      "cell_type": "code",
      "metadata": {
        "id": "enclosed-criterion"
      },
      "source": [
        "def balance_bst(node):\n",
        "    return make_balanced_bst(list_all(node))"
      ],
      "id": "enclosed-criterion",
      "execution_count": 116,
      "outputs": []
    },
    {
      "cell_type": "code",
      "metadata": {
        "id": "informational-flooring"
      },
      "source": [
        "tree1 = None\n",
        "\n",
        "for user in users:\n",
        "    tree1 = insert(tree1, user.username, user)"
      ],
      "id": "informational-flooring",
      "execution_count": 117,
      "outputs": []
    },
    {
      "cell_type": "code",
      "metadata": {
        "colab": {
          "base_uri": "https://localhost:8080/"
        },
        "id": "continued-study",
        "outputId": "0a2c3954-179b-4ee8-a8dc-e8b06fdc0850"
      },
      "source": [
        "display_keys(tree1)"
      ],
      "id": "continued-study",
      "execution_count": 118,
      "outputs": [
        {
          "output_type": "stream",
          "name": "stdout",
          "text": [
            "\t\t\t\t\t\tvishal\n",
            "\t\t\t\t\tsonaksh\n",
            "\t\t\t\t\t\t∅\n",
            "\t\t\t\tsiddhant\n",
            "\t\t\t\t\t∅\n",
            "\t\t\tjadhesh\n",
            "\t\t\t\t∅\n",
            "\t\themanth\n",
            "\t\t\t∅\n",
            "\tbiraj\n",
            "\t\t∅\n",
            "aakash\n",
            "\t∅\n"
          ]
        }
      ]
    },
    {
      "cell_type": "code",
      "metadata": {
        "colab": {
          "base_uri": "https://localhost:8080/",
          "height": 235
        },
        "id": "naval-arrangement",
        "outputId": "eebdf487-f338-4ba7-cc73-07ff284df855"
      },
      "source": [
        "tree2 = balance_bst(tree1)"
      ],
      "id": "naval-arrangement",
      "execution_count": 120,
      "outputs": [
        {
          "output_type": "error",
          "ename": "NameError",
          "evalue": "ignored",
          "traceback": [
            "\u001b[0;31m---------------------------------------------------------------------------\u001b[0m",
            "\u001b[0;31mNameError\u001b[0m                                 Traceback (most recent call last)",
            "\u001b[0;32m<ipython-input-120-5965b708796a>\u001b[0m in \u001b[0;36m<module>\u001b[0;34m()\u001b[0m\n\u001b[0;32m----> 1\u001b[0;31m \u001b[0mtree2\u001b[0m \u001b[0;34m=\u001b[0m \u001b[0mbalance_bst\u001b[0m\u001b[0;34m(\u001b[0m\u001b[0mtree1\u001b[0m\u001b[0;34m)\u001b[0m\u001b[0;34m\u001b[0m\u001b[0;34m\u001b[0m\u001b[0m\n\u001b[0m",
            "\u001b[0;32m<ipython-input-116-3150bc2ef1e4>\u001b[0m in \u001b[0;36mbalance_bst\u001b[0;34m(node)\u001b[0m\n\u001b[1;32m      1\u001b[0m \u001b[0;32mdef\u001b[0m \u001b[0mbalance_bst\u001b[0m\u001b[0;34m(\u001b[0m\u001b[0mnode\u001b[0m\u001b[0;34m)\u001b[0m\u001b[0;34m:\u001b[0m\u001b[0;34m\u001b[0m\u001b[0;34m\u001b[0m\u001b[0m\n\u001b[0;32m----> 2\u001b[0;31m     \u001b[0;32mreturn\u001b[0m \u001b[0mmake_balanced_bst\u001b[0m\u001b[0;34m(\u001b[0m\u001b[0mlist_all\u001b[0m\u001b[0;34m(\u001b[0m\u001b[0mnode\u001b[0m\u001b[0;34m)\u001b[0m\u001b[0;34m)\u001b[0m\u001b[0;34m\u001b[0m\u001b[0;34m\u001b[0m\u001b[0m\n\u001b[0m",
            "\u001b[0;31mNameError\u001b[0m: name 'make_balanced_bst' is not defined"
          ]
        }
      ]
    },
    {
      "cell_type": "code",
      "metadata": {
        "id": "compatible-family"
      },
      "source": [
        "display_keys(tree2)"
      ],
      "id": "compatible-family",
      "execution_count": null,
      "outputs": []
    },
    {
      "cell_type": "markdown",
      "metadata": {
        "id": "elegant-passenger"
      },
      "source": [
        "After every insertion, we can balance the tree. This way the tree will remain balanced.\n",
        "\n",
        "Complexity of the various operations in a balanced BST:\n",
        "\n",
        "* Insert - O(log N) + O(N) = O(N)\n",
        "* Find - O(log N)\n",
        "* Update - O(log N)\n",
        "* List all - O(N)\n",
        "\n",
        "What's the real improvement between O(N) and O(log N)? "
      ],
      "id": "elegant-passenger"
    },
    {
      "cell_type": "code",
      "metadata": {
        "id": "linear-vertical"
      },
      "source": [
        "import math\n",
        "\n",
        "math.log(100000000, 2)"
      ],
      "id": "linear-vertical",
      "execution_count": null,
      "outputs": []
    },
    {
      "cell_type": "markdown",
      "metadata": {
        "id": "fatal-belarus"
      },
      "source": [
        "The logarithm (base 2) of 100 million is around 26. Thus, it takes only 26 operations to find or update a node within a BST (as opposed to 100 million)."
      ],
      "id": "fatal-belarus"
    },
    {
      "cell_type": "code",
      "metadata": {
        "id": "nonprofit-joshua"
      },
      "source": [
        "%%time\n",
        "for i in range(26):\n",
        "    j = i*i"
      ],
      "id": "nonprofit-joshua",
      "execution_count": null,
      "outputs": []
    },
    {
      "cell_type": "markdown",
      "metadata": {
        "id": "welsh-retirement"
      },
      "source": [
        "Compared to linear time:"
      ],
      "id": "welsh-retirement"
    },
    {
      "cell_type": "code",
      "metadata": {
        "id": "affected-tackle"
      },
      "source": [
        "%%time\n",
        "for i in range(100000000):\n",
        "    j = i*i"
      ],
      "id": "affected-tackle",
      "execution_count": null,
      "outputs": []
    },
    {
      "cell_type": "markdown",
      "metadata": {
        "id": "complex-employment"
      },
      "source": [
        "Thus, find and update from a balanced binary search tree is 300,000 times faster than our original solution. To speed up insertions, we may choose to perform the balancing periodically (e.g. once every 1000 insertions). This way, most insertions will be O (log N), but every 1000th insertion will take a few seconds. Another options is to rebalance the tree periodically at the end of every hour."
      ],
      "id": "complex-employment"
    },
    {
      "cell_type": "markdown",
      "metadata": {
        "id": "lesbian-detector"
      },
      "source": [
        "## A Python-Friendly Treemap \n",
        "\n",
        "We are now ready to return to our original problem statement.\n",
        "\n",
        "> **QUESTION 1**: As a senior backend engineer at Jovian, you are tasked with developing a fast in-memory data structure to manage profile information (username, name and email) for 100 million users. It should allow the following operations to be performed efficiently:\n",
        "> \n",
        "> 1. **Insert** the profile information for a new user.\n",
        "> 2. **Find** the profile information of a user, given their username\n",
        "> 3. **Update** the profile information of a user, given their usrname\n",
        "> 5. **List** all the users of the platform, sorted by username\n",
        ">\n",
        "> You can assume that usernames are unique. \n",
        "\n",
        "\n",
        "\n",
        "We can create a generic class `TreeMap` which supports all the operations specified in the original problem statement in a python-friendly manner."
      ],
      "id": "lesbian-detector"
    },
    {
      "cell_type": "code",
      "metadata": {
        "id": "global-aberdeen"
      },
      "source": [
        "class TreeMap():\n",
        "    def __init__(self):\n",
        "        self.root = None\n",
        "        \n",
        "    def __setitem__(self, key, value):\n",
        "        node = find(self.root, key)\n",
        "        if not node:\n",
        "            self.root = insert(self.root, key, value)\n",
        "            self.root = balance_bst(self.root)\n",
        "        else:\n",
        "            update(self.root, key, value)\n",
        "            \n",
        "        \n",
        "    def __getitem__(self, key):\n",
        "        node = find(self.root, key)\n",
        "        return node.value if node else None\n",
        "    \n",
        "    def __iter__(self):\n",
        "        return (x for x in list_all(self.root))\n",
        "    \n",
        "    def __len__(self):\n",
        "        return tree_size(self.root)\n",
        "    \n",
        "    def display(self):\n",
        "        return display_keys(self.root)"
      ],
      "id": "global-aberdeen",
      "execution_count": 121,
      "outputs": []
    },
    {
      "cell_type": "markdown",
      "metadata": {
        "id": "loaded-deposit"
      },
      "source": [
        "**Exercise**: What is the time complexity of `__len__`? Can you reduce it to **O(1)**. Hint: Modify the `BSTNode` class.\n",
        "\n",
        "Let's try using the `TreeMap` class below."
      ],
      "id": "loaded-deposit"
    },
    {
      "cell_type": "code",
      "metadata": {
        "colab": {
          "base_uri": "https://localhost:8080/"
        },
        "id": "creative-assessment",
        "outputId": "3fabdbce-deaf-4ae1-8168-9b0decb6592c"
      },
      "source": [
        "users"
      ],
      "id": "creative-assessment",
      "execution_count": 122,
      "outputs": [
        {
          "output_type": "execute_result",
          "data": {
            "text/plain": [
              "[User(username='aakash', name='Aakash Rai', email='aakash@example.com'),\n",
              " User(username='biraj', name='Biraj Das', email='biraj@example.com'),\n",
              " User(username='hemanth', name='Hemanth Jain', email='hemanth@example.com'),\n",
              " User(username='jadhesh', name='Jadhesh Verma', email='jadhesh@example.com'),\n",
              " User(username='siddhant', name='Siddhant U', email='siddhantu@example.com'),\n",
              " User(username='sonaksh', name='Sonaksh Kumar', email='sonaksh@example.com'),\n",
              " User(username='vishal', name='Vishal Goel', email='vishal@example.com')]"
            ]
          },
          "metadata": {},
          "execution_count": 122
        }
      ]
    },
    {
      "cell_type": "code",
      "metadata": {
        "id": "dedicated-airfare"
      },
      "source": [
        "treemap = TreeMap()"
      ],
      "id": "dedicated-airfare",
      "execution_count": 123,
      "outputs": []
    },
    {
      "cell_type": "code",
      "metadata": {
        "colab": {
          "base_uri": "https://localhost:8080/"
        },
        "id": "organic-vampire",
        "outputId": "2e592165-4792-4f15-fa12-51595f6e4ed9"
      },
      "source": [
        "treemap.display()"
      ],
      "id": "organic-vampire",
      "execution_count": 124,
      "outputs": [
        {
          "output_type": "stream",
          "name": "stdout",
          "text": [
            "∅\n"
          ]
        }
      ]
    },
    {
      "cell_type": "code",
      "metadata": {
        "colab": {
          "base_uri": "https://localhost:8080/",
          "height": 294
        },
        "id": "proper-brain",
        "outputId": "d4a69668-8003-4c89-bd78-8f9a24574821"
      },
      "source": [
        "treemap['aakash'] = aakash\n",
        "treemap['jadhesh'] = jadhesh\n",
        "treemap['sonaksh'] = sonaksh"
      ],
      "id": "proper-brain",
      "execution_count": 125,
      "outputs": [
        {
          "output_type": "error",
          "ename": "NameError",
          "evalue": "ignored",
          "traceback": [
            "\u001b[0;31m---------------------------------------------------------------------------\u001b[0m",
            "\u001b[0;31mNameError\u001b[0m                                 Traceback (most recent call last)",
            "\u001b[0;32m<ipython-input-125-dc7bc716db8c>\u001b[0m in \u001b[0;36m<module>\u001b[0;34m()\u001b[0m\n\u001b[0;32m----> 1\u001b[0;31m \u001b[0mtreemap\u001b[0m\u001b[0;34m[\u001b[0m\u001b[0;34m'aakash'\u001b[0m\u001b[0;34m]\u001b[0m \u001b[0;34m=\u001b[0m \u001b[0maakash\u001b[0m\u001b[0;34m\u001b[0m\u001b[0;34m\u001b[0m\u001b[0m\n\u001b[0m\u001b[1;32m      2\u001b[0m \u001b[0mtreemap\u001b[0m\u001b[0;34m[\u001b[0m\u001b[0;34m'jadhesh'\u001b[0m\u001b[0;34m]\u001b[0m \u001b[0;34m=\u001b[0m \u001b[0mjadhesh\u001b[0m\u001b[0;34m\u001b[0m\u001b[0;34m\u001b[0m\u001b[0m\n\u001b[1;32m      3\u001b[0m \u001b[0mtreemap\u001b[0m\u001b[0;34m[\u001b[0m\u001b[0;34m'sonaksh'\u001b[0m\u001b[0;34m]\u001b[0m \u001b[0;34m=\u001b[0m \u001b[0msonaksh\u001b[0m\u001b[0;34m\u001b[0m\u001b[0;34m\u001b[0m\u001b[0m\n",
            "\u001b[0;32m<ipython-input-121-33a72637ccf9>\u001b[0m in \u001b[0;36m__setitem__\u001b[0;34m(self, key, value)\u001b[0m\n\u001b[1;32m      7\u001b[0m         \u001b[0;32mif\u001b[0m \u001b[0;32mnot\u001b[0m \u001b[0mnode\u001b[0m\u001b[0;34m:\u001b[0m\u001b[0;34m\u001b[0m\u001b[0;34m\u001b[0m\u001b[0m\n\u001b[1;32m      8\u001b[0m             \u001b[0mself\u001b[0m\u001b[0;34m.\u001b[0m\u001b[0mroot\u001b[0m \u001b[0;34m=\u001b[0m \u001b[0minsert\u001b[0m\u001b[0;34m(\u001b[0m\u001b[0mself\u001b[0m\u001b[0;34m.\u001b[0m\u001b[0mroot\u001b[0m\u001b[0;34m,\u001b[0m \u001b[0mkey\u001b[0m\u001b[0;34m,\u001b[0m \u001b[0mvalue\u001b[0m\u001b[0;34m)\u001b[0m\u001b[0;34m\u001b[0m\u001b[0;34m\u001b[0m\u001b[0m\n\u001b[0;32m----> 9\u001b[0;31m             \u001b[0mself\u001b[0m\u001b[0;34m.\u001b[0m\u001b[0mroot\u001b[0m \u001b[0;34m=\u001b[0m \u001b[0mbalance_bst\u001b[0m\u001b[0;34m(\u001b[0m\u001b[0mself\u001b[0m\u001b[0;34m.\u001b[0m\u001b[0mroot\u001b[0m\u001b[0;34m)\u001b[0m\u001b[0;34m\u001b[0m\u001b[0;34m\u001b[0m\u001b[0m\n\u001b[0m\u001b[1;32m     10\u001b[0m         \u001b[0;32melse\u001b[0m\u001b[0;34m:\u001b[0m\u001b[0;34m\u001b[0m\u001b[0;34m\u001b[0m\u001b[0m\n\u001b[1;32m     11\u001b[0m             \u001b[0mupdate\u001b[0m\u001b[0;34m(\u001b[0m\u001b[0mself\u001b[0m\u001b[0;34m.\u001b[0m\u001b[0mroot\u001b[0m\u001b[0;34m,\u001b[0m \u001b[0mkey\u001b[0m\u001b[0;34m,\u001b[0m \u001b[0mvalue\u001b[0m\u001b[0;34m)\u001b[0m\u001b[0;34m\u001b[0m\u001b[0;34m\u001b[0m\u001b[0m\n",
            "\u001b[0;32m<ipython-input-116-3150bc2ef1e4>\u001b[0m in \u001b[0;36mbalance_bst\u001b[0;34m(node)\u001b[0m\n\u001b[1;32m      1\u001b[0m \u001b[0;32mdef\u001b[0m \u001b[0mbalance_bst\u001b[0m\u001b[0;34m(\u001b[0m\u001b[0mnode\u001b[0m\u001b[0;34m)\u001b[0m\u001b[0;34m:\u001b[0m\u001b[0;34m\u001b[0m\u001b[0;34m\u001b[0m\u001b[0m\n\u001b[0;32m----> 2\u001b[0;31m     \u001b[0;32mreturn\u001b[0m \u001b[0mmake_balanced_bst\u001b[0m\u001b[0;34m(\u001b[0m\u001b[0mlist_all\u001b[0m\u001b[0;34m(\u001b[0m\u001b[0mnode\u001b[0m\u001b[0;34m)\u001b[0m\u001b[0;34m)\u001b[0m\u001b[0;34m\u001b[0m\u001b[0;34m\u001b[0m\u001b[0m\n\u001b[0m",
            "\u001b[0;31mNameError\u001b[0m: name 'make_balanced_bst' is not defined"
          ]
        }
      ]
    },
    {
      "cell_type": "code",
      "metadata": {
        "id": "mathematical-sender"
      },
      "source": [
        "treemap.display()"
      ],
      "id": "mathematical-sender",
      "execution_count": null,
      "outputs": []
    },
    {
      "cell_type": "code",
      "metadata": {
        "id": "crude-lobby"
      },
      "source": [
        "treemap['jadhesh']"
      ],
      "id": "crude-lobby",
      "execution_count": null,
      "outputs": []
    },
    {
      "cell_type": "code",
      "metadata": {
        "id": "running-disposition"
      },
      "source": [
        "len(treemap)"
      ],
      "id": "running-disposition",
      "execution_count": null,
      "outputs": []
    },
    {
      "cell_type": "code",
      "metadata": {
        "id": "victorian-contractor"
      },
      "source": [
        "treemap['biraj'] = biraj\n",
        "treemap['hemanth'] = hemanth\n",
        "treemap['siddhant'] = siddhant\n",
        "treemap['vishal'] = vishal"
      ],
      "id": "victorian-contractor",
      "execution_count": null,
      "outputs": []
    },
    {
      "cell_type": "code",
      "metadata": {
        "id": "offensive-notice"
      },
      "source": [
        "treemap.display()"
      ],
      "id": "offensive-notice",
      "execution_count": null,
      "outputs": []
    },
    {
      "cell_type": "code",
      "metadata": {
        "id": "south-hazard"
      },
      "source": [
        "for key, value in treemap:\n",
        "    print(key, value)"
      ],
      "id": "south-hazard",
      "execution_count": null,
      "outputs": []
    },
    {
      "cell_type": "code",
      "metadata": {
        "id": "dominant-sector"
      },
      "source": [
        "list(treemap)"
      ],
      "id": "dominant-sector",
      "execution_count": null,
      "outputs": []
    },
    {
      "cell_type": "code",
      "metadata": {
        "id": "large-freedom"
      },
      "source": [
        "treemap['aakash'] = User(username='aakash', name='Aakash N S', email='aakashns@example.com')"
      ],
      "id": "large-freedom",
      "execution_count": null,
      "outputs": []
    },
    {
      "cell_type": "code",
      "metadata": {
        "id": "tropical-advice"
      },
      "source": [
        "treemap['aakash']"
      ],
      "id": "tropical-advice",
      "execution_count": null,
      "outputs": []
    },
    {
      "cell_type": "markdown",
      "metadata": {
        "id": "attached-pacific"
      },
      "source": [
        "\n",
        "**Exercise:** Try out some more examples below. Can our treemap actually handle millions of users profiles?"
      ],
      "id": "attached-pacific"
    },
    {
      "cell_type": "code",
      "metadata": {
        "id": "wanted-cooking"
      },
      "source": [
        ""
      ],
      "id": "wanted-cooking",
      "execution_count": null,
      "outputs": []
    },
    {
      "cell_type": "code",
      "metadata": {
        "id": "photographic-desktop"
      },
      "source": [
        ""
      ],
      "id": "photographic-desktop",
      "execution_count": null,
      "outputs": []
    },
    {
      "cell_type": "code",
      "metadata": {
        "id": "elder-carolina"
      },
      "source": [
        ""
      ],
      "id": "elder-carolina",
      "execution_count": null,
      "outputs": []
    },
    {
      "cell_type": "markdown",
      "metadata": {
        "id": "conceptual-microphone"
      },
      "source": [
        "Let's save our work before cotinuing."
      ],
      "id": "conceptual-microphone"
    },
    {
      "cell_type": "code",
      "metadata": {
        "id": "affected-rings"
      },
      "source": [
        "import jovian"
      ],
      "id": "affected-rings",
      "execution_count": null,
      "outputs": []
    },
    {
      "cell_type": "code",
      "metadata": {
        "id": "national-stupid"
      },
      "source": [
        "jovian.commit()"
      ],
      "id": "national-stupid",
      "execution_count": null,
      "outputs": []
    },
    {
      "cell_type": "markdown",
      "metadata": {
        "id": "meaning-phrase"
      },
      "source": [
        "## Self-Balancing Binary Trees and AVL Trees\n",
        "\n",
        "A *self-balancing binary tree* remains balanced after every insertion or deletion. Several decades of research has gone into creating self-balancing binary trees, and many approaches have been devised e.g. B-trees, Red Black Trees and  AVL (Adelson-Velsky Landis) trees.\n",
        "\n",
        "We'll take a brief look at AVL trees. Self-balancing in AVL trees is achieved by tracking the *balance factor* (difference between the height of the left subtree and the right subtree) for each node and *rotating* unbalanced subtrees along the path of insertion/deletion to balance them.\n",
        "\n",
        "![](https://upload.wikimedia.org/wikipedia/commons/f/fd/AVL_Tree_Example.gif)\n",
        "\n",
        "In a balanced BST, the balance factor of each node is either 0, -1, or 1. When we perform an insertion, then the balance factor of certain nodes along the path of insertion may change to 2 or -2. Those nodes can be \"rotated\" one-by-one to bring the balance factor back to 1, 0 or -1. \n",
        "\n",
        "There are 4 different scenarios for balancing, two of which require a single rotation, while the others require 2 rotations:\n",
        "\n",
        "\n",
        "![](https://s3.amazonaws.com/hr-challenge-images/0/1436854305-b167cc766c-AVL_Tree_Rebalancing.svg.png)\n",
        "\n",
        "Source: [HackerRank](https://www.hackerrank.com/challenges/self-balancing-tree/problem)\n",
        "\n",
        "Since each rotation takes constant time, and at most `log N` rotations may be required, this operation is far more efficient than creating a balanced binary tree from scratch, allowing insertion and deletion to be performed in `O (log N)` time. Here are some references for AVL Trees:\n",
        "\n",
        "* Explanation of the various cases: https://youtu.be/jDM6_TnYIqE?t=482\n",
        "* Implementation: https://www.geeksforgeeks.org/avl-tree-set-1-insertion/\n"
      ],
      "id": "meaning-phrase"
    },
    {
      "cell_type": "markdown",
      "metadata": {
        "id": "persistent-rating"
      },
      "source": [
        "## Summary and Exercises\n",
        "\n",
        "![](https://i.imgur.com/lVqP63n.png)\n",
        "\n",
        "Binary trees form the basis of many modern programming language features (e.g. maps in C++ and Java) and data storage systems (filesystem indexes, relational databases like MySQL). You might wonder if dictionaries in Python are also binary search trees. They're not. They're hash tables, which is a different but equally interesting and important data structure. We'll explore hash tables in a future tutorial.\n",
        "\n",
        "\n",
        "\n",
        "\n",
        "\n",
        "\n",
        "We've covered a lot of ground this in this tutorial, including several common interview questions. Here are a few more problems you can try out:\n",
        "\n",
        "1. Implement rotations and self-balancing insertion\n",
        "1. Implement deletion of a node from a binary search tree\n",
        "2. Implement deletion of a node from a BST (with balancing)\n",
        "3. Find the lowest common ancestor of two nodes in a tree (Hint: Use the `parent` property)\n",
        "4. Find the next node in lexicographic order for a given node\n",
        "5. Given a number k, find the k-th node in a BST.\n",
        "\n",
        "Try more questions here: \n",
        "\n",
        "* https://medium.com/techie-delight/binary-tree-interview-questions-and-practice-problems-439df7e5ea1f\n",
        "* https://leetcode.com/tag/tree/\n",
        "\n",
        "\n",
        "\n",
        "\n"
      ],
      "id": "persistent-rating"
    },
    {
      "cell_type": "code",
      "metadata": {
        "id": "judicial-specialist"
      },
      "source": [
        "import jovian"
      ],
      "id": "judicial-specialist",
      "execution_count": 126,
      "outputs": []
    },
    {
      "cell_type": "code",
      "metadata": {
        "colab": {
          "base_uri": "https://localhost:8080/",
          "height": 87
        },
        "id": "surprising-guest",
        "outputId": "6190e103-76ed-45b1-f9d0-914dcf4b88bc"
      },
      "source": [
        "jovian.commit()"
      ],
      "id": "surprising-guest",
      "execution_count": 127,
      "outputs": [
        {
          "output_type": "stream",
          "name": "stdout",
          "text": [
            "[jovian] Detected Colab notebook...\u001b[0m\n",
            "[jovian] Uploading colab notebook to Jovian...\u001b[0m\n",
            "Committed successfully! https://jovian.ai/pepeette/python-binary-search-trees\n"
          ]
        },
        {
          "output_type": "execute_result",
          "data": {
            "application/vnd.google.colaboratory.intrinsic+json": {
              "type": "string"
            },
            "text/plain": [
              "'https://jovian.ai/pepeette/python-binary-search-trees'"
            ]
          },
          "metadata": {},
          "execution_count": 127
        }
      ]
    },
    {
      "cell_type": "code",
      "metadata": {
        "id": "furnished-harvard"
      },
      "source": [
        ""
      ],
      "id": "furnished-harvard",
      "execution_count": 127,
      "outputs": []
    }
  ]
}